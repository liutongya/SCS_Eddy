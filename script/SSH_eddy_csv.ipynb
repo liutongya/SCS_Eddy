{
 "cells": [
  {
   "cell_type": "code",
   "execution_count": 122,
   "id": "greenhouse-clinic",
   "metadata": {
    "execution": {
     "iopub.execute_input": "2021-03-29T16:10:35.033012Z",
     "iopub.status.busy": "2021-03-29T16:10:35.032606Z",
     "iopub.status.idle": "2021-03-29T16:10:35.185434Z",
     "shell.execute_reply": "2021-03-29T16:10:35.183950Z",
     "shell.execute_reply.started": "2021-03-29T16:10:35.032964Z"
    }
   },
   "outputs": [],
   "source": [
    "from intake import open_catalog\n",
    "from datetime import date\n",
    "import numpy as np\n",
    "import pandas as pd\n",
    "import scipy.io\n",
    "import gsw\n",
    "from copy import deepcopy\n",
    "from matplotlib import pyplot as plt\n",
    "%matplotlib inline"
   ]
  },
  {
   "cell_type": "code",
   "execution_count": null,
   "id": "concrete-framework",
   "metadata": {},
   "outputs": [],
   "source": []
  },
  {
   "cell_type": "code",
   "execution_count": 2,
   "id": "lonely-experience",
   "metadata": {
    "execution": {
     "iopub.execute_input": "2021-03-29T11:10:53.000680Z",
     "iopub.status.busy": "2021-03-29T11:10:53.000266Z",
     "iopub.status.idle": "2021-03-29T11:11:04.839325Z",
     "shell.execute_reply": "2021-03-29T11:11:04.838119Z",
     "shell.execute_reply.started": "2021-03-29T11:10:53.000640Z"
    }
   },
   "outputs": [],
   "source": [
    "fn1 = '/home/jovyan/RCLVs/SCS/eds_28d.mat'\n",
    "data1 = scipy.io.loadmat(fn1)\n",
    "\n",
    "fn2 = '/home/jovyan/RCLVs/SCS/eds_28d_trk.mat'\n",
    "data2 = scipy.io.loadmat(fn2)\n",
    "\n",
    "fn3 = '/home/jovyan/RCLVs/SCS/t_eddy.mat'\n",
    "data3 = scipy.io.loadmat(fn3)"
   ]
  },
  {
   "cell_type": "code",
   "execution_count": 175,
   "id": "mighty-georgia",
   "metadata": {
    "execution": {
     "iopub.execute_input": "2021-03-29T17:20:20.603233Z",
     "iopub.status.busy": "2021-03-29T17:20:20.602772Z",
     "iopub.status.idle": "2021-03-29T17:20:20.613437Z",
     "shell.execute_reply": "2021-03-29T17:20:20.611573Z",
     "shell.execute_reply.started": "2021-03-29T17:20:20.603202Z"
    }
   },
   "outputs": [
    {
     "data": {
      "text/plain": [
       "array([[0.28079211],\n",
       "       [0.3049439 ],\n",
       "       [0.30965178],\n",
       "       [0.32150815],\n",
       "       [0.31778013],\n",
       "       [0.33613153],\n",
       "       [0.36761664],\n",
       "       [0.38345976],\n",
       "       [0.40178958],\n",
       "       [0.43732392],\n",
       "       [0.4388661 ],\n",
       "       [0.43854593],\n",
       "       [0.43774244],\n",
       "       [0.44086767],\n",
       "       [0.45605291],\n",
       "       [0.46799176],\n",
       "       [0.49453378],\n",
       "       [0.52457597],\n",
       "       [0.54707389],\n",
       "       [0.54971772],\n",
       "       [0.55111309],\n",
       "       [0.54680377],\n",
       "       [0.55149325],\n",
       "       [0.54947282],\n",
       "       [0.54253098],\n",
       "       [0.54083748],\n",
       "       [0.54964102],\n",
       "       [0.54675222],\n",
       "       [0.54752743],\n",
       "       [0.53309516],\n",
       "       [0.50648073],\n",
       "       [0.50149281],\n",
       "       [0.51717578],\n",
       "       [0.55214059],\n",
       "       [0.5601596 ],\n",
       "       [0.56570932],\n",
       "       [0.57490024],\n",
       "       [0.57132738],\n",
       "       [0.55573297],\n",
       "       [0.54329204],\n",
       "       [0.55020632],\n",
       "       [0.54233183],\n",
       "       [0.52322027],\n",
       "       [0.49929367],\n",
       "       [0.48116263],\n",
       "       [0.46529897],\n",
       "       [0.44514458],\n",
       "       [0.4142646 ],\n",
       "       [0.39462548],\n",
       "       [0.37457078],\n",
       "       [0.34882473],\n",
       "       [0.33174153],\n",
       "       [0.31148265],\n",
       "       [0.31277246],\n",
       "       [0.29572222],\n",
       "       [0.27585575],\n",
       "       [0.26978625],\n",
       "       [0.27034252],\n",
       "       [0.2735273 ],\n",
       "       [0.25385146],\n",
       "       [0.2522128 ],\n",
       "       [0.2778258 ],\n",
       "       [0.33250192],\n",
       "       [0.36542034],\n",
       "       [0.36319649],\n",
       "       [0.33003718],\n",
       "       [0.24598253],\n",
       "       [0.26071358],\n",
       "       [0.24209019],\n",
       "       [0.22990198]])"
      ]
     },
     "execution_count": 175,
     "metadata": {},
     "output_type": "execute_result"
    }
   ],
   "source": [
    "edgespd_var = data2['eds_28d_trk'][i, 0]['edgespd_ave'][0]\n",
    "edgespd = np.array([tmp[0] for tmp in edgespd_var])\n",
    "edgespd"
   ]
  },
  {
   "cell_type": "code",
   "execution_count": 180,
   "id": "alike-palestine",
   "metadata": {
    "execution": {
     "iopub.execute_input": "2021-03-29T17:24:51.147092Z",
     "iopub.status.busy": "2021-03-29T17:24:51.146717Z",
     "iopub.status.idle": "2021-03-29T17:27:04.684505Z",
     "shell.execute_reply": "2021-03-29T17:27:04.682600Z",
     "shell.execute_reply.started": "2021-03-29T17:24:51.147062Z"
    }
   },
   "outputs": [],
   "source": [
    "cols=['id', 'date_start', 'date_end', 'duration', 'time', 'amplitude', 'area', 'radius', 'cyc', 'vorticity', 'boundary', 'center_traj', 'dx', 'speed_x', 'dy', 'speed_y', 'edgespd', 'KE']\n",
    "df = pd.DataFrame(columns=cols)\n",
    "\n",
    "for i in np.arange(1999):\n",
    "\n",
    "    time_var = data2['eds_28d_trk'][i, 0]['time'][0, :]\n",
    "    time = np.array([float(tmp) for tmp in time_var])\n",
    "    tt0, tt1 = time[0], time[-1]\n",
    "    dt = tt1 - tt0 + 1\n",
    "    \n",
    "    amp_var = data2['eds_28d_trk'][i, 0]['amplitude'][0, :]\n",
    "    amp = np.array([float(tmp) for tmp in amp_var])\n",
    "    area_var = data2['eds_28d_trk'][i, 0]['area'][0, :]\n",
    "    area = np.array([float(tmp) for tmp in area_var])\n",
    "    \n",
    "    rad = np.sqrt(area / np.pi)\n",
    "    \n",
    "    vort_var = data2['eds_28d_trk'][i, 0]['vorticity'][0, :]\n",
    "    vort = np.array([float(tmp) for tmp in vort_var])\n",
    "    \n",
    "    if vort.mean() > 0:\n",
    "        cyc = 1\n",
    "    else:\n",
    "        cyc = -1\n",
    "    \n",
    "    boun = data2['eds_28d_trk'][i, 0]['edgeline'][0, :]\n",
    "    \n",
    "    center_var = data2['eds_28d_trk'][i, 0]['centerposition'][0]\n",
    "    center = np.array([tmp[0] for tmp in center_var])\n",
    "    \n",
    "    dxstd = gsw.distance([0, 1], [center[0, 1], center[0, 1]])\n",
    "    dx = dxstd * (center[-1, 0] - center[0, 0])\n",
    "    speedx = dx / (86400 * dt)\n",
    "    \n",
    "    dystd = gsw.distance([center[0, 0], center[0, 0]], [0, 1])\n",
    "    dy = dystd * (center[-1, 1] - center[0, 1])\n",
    "    speedy = dy / (86400 * dt)\n",
    "    \n",
    "    edgespd_var = data2['eds_28d_trk'][i, 0]['edgespd_ave'][0]\n",
    "    edgespd = np.array([tmp[0] for tmp in edgespd_var])\n",
    "    \n",
    "    mke_var = data2['eds_28d_trk'][i, 0]['mKE'][0]\n",
    "    mke = np.array([tmp[0] for tmp in mke_var])\n",
    "    \n",
    "    data = {'id': i+1,\n",
    "            'date_start': tt0,\n",
    "            'date_end': tt1,\n",
    "            'duration': dt,\n",
    "            'time': time,\n",
    "            'amplitude': amp,\n",
    "            'area': area,\n",
    "            'radius': rad,\n",
    "            'cyc': cyc,\n",
    "            'vorticity': vort,\n",
    "            'boundary': boun,\n",
    "            'center_traj': center,\n",
    "            'dx': dx,\n",
    "            'speed_x': speedx,\n",
    "            'dy': dy,\n",
    "            'speed_y': speedy,\n",
    "            'edgespd': edgespd,\n",
    "            'KE': mke\n",
    "            }\n",
    "    df = df.append(data, ignore_index=True)\n",
    "\n",
    "df.to_csv('ssh_eddy.csv', index=False)\n",
    "    \n",
    "#plt.hist(lifespan, bins=30)"
   ]
  },
  {
   "cell_type": "code",
   "execution_count": 177,
   "id": "treated-failing",
   "metadata": {
    "execution": {
     "iopub.execute_input": "2021-03-29T17:23:16.967653Z",
     "iopub.status.busy": "2021-03-29T17:23:16.967299Z",
     "iopub.status.idle": "2021-03-29T17:23:17.493820Z",
     "shell.execute_reply": "2021-03-29T17:23:17.492302Z",
     "shell.execute_reply.started": "2021-03-29T17:23:16.967622Z"
    }
   },
   "outputs": [
    {
     "data": {
      "text/html": [
       "<div>\n",
       "<style scoped>\n",
       "    .dataframe tbody tr th:only-of-type {\n",
       "        vertical-align: middle;\n",
       "    }\n",
       "\n",
       "    .dataframe tbody tr th {\n",
       "        vertical-align: top;\n",
       "    }\n",
       "\n",
       "    .dataframe thead th {\n",
       "        text-align: right;\n",
       "    }\n",
       "</style>\n",
       "<table border=\"1\" class=\"dataframe\">\n",
       "  <thead>\n",
       "    <tr style=\"text-align: right;\">\n",
       "      <th></th>\n",
       "      <th>id</th>\n",
       "      <th>date_start</th>\n",
       "      <th>date_end</th>\n",
       "      <th>duration</th>\n",
       "      <th>time</th>\n",
       "      <th>amplitude</th>\n",
       "      <th>area</th>\n",
       "      <th>radius</th>\n",
       "      <th>cyc</th>\n",
       "      <th>vorticity</th>\n",
       "      <th>boundary</th>\n",
       "      <th>center_traj</th>\n",
       "      <th>dx</th>\n",
       "      <th>speed_x</th>\n",
       "      <th>dy</th>\n",
       "      <th>speed_y</th>\n",
       "      <th>edgespd</th>\n",
       "      <th>KE</th>\n",
       "    </tr>\n",
       "  </thead>\n",
       "  <tbody>\n",
       "    <tr>\n",
       "      <th>0</th>\n",
       "      <td>1</td>\n",
       "      <td>727951.0</td>\n",
       "      <td>727978.0</td>\n",
       "      <td>28.0</td>\n",
       "      <td>[727951.0, 727952.0, 727953.0, 727954.0, 72795...</td>\n",
       "      <td>[-0.007712499999999983, -0.012131249999999968,...</td>\n",
       "      <td>[5455659440.894975, 8121446992.162614, 9907658...</td>\n",
       "      <td>[41672.41696480782, 50844.241244441546, 56157....</td>\n",
       "      <td>1</td>\n",
       "      <td>[6.471079552603794e-06, 6.805875491400245e-06,...</td>\n",
       "      <td>[[[115.375, 115.625, 115.875, 116.125, 116.375...</td>\n",
       "      <td>[[115.875, 11.625], [115.875, 11.625], [115.62...</td>\n",
       "      <td>[-108913.97563481628]</td>\n",
       "      <td>[-0.0450206579178308]</td>\n",
       "      <td>[-305786.04827253654]</td>\n",
       "      <td>[-0.12639965619731172]</td>\n",
       "      <td>[[0.13423669025789728], [0.17275709113497995],...</td>\n",
       "      <td>[[0.00470504440386122], [0.0110756746073456], ...</td>\n",
       "    </tr>\n",
       "    <tr>\n",
       "      <th>1</th>\n",
       "      <td>2</td>\n",
       "      <td>727930.0</td>\n",
       "      <td>727978.0</td>\n",
       "      <td>49.0</td>\n",
       "      <td>[727930.0, 727931.0, 727932.0, 727933.0, 72793...</td>\n",
       "      <td>[0.12278125000000001, 0.12778125, 0.1111187500...</td>\n",
       "      <td>[43276528576.180664, 43680949487.472404, 40409...</td>\n",
       "      <td>[117368.4237157236, 117915.5547828922, 113414....</td>\n",
       "      <td>-1</td>\n",
       "      <td>[-5.640043829890309e-06, -5.616555549326674e-0...</td>\n",
       "      <td>[[[124.625, 124.57964887467716, 124.4362843058...</td>\n",
       "      <td>[[123.875, 20.125], [123.625, 20.125], [123.62...</td>\n",
       "      <td>[-391521.2849715277]</td>\n",
       "      <td>[-0.09247951742524747]</td>\n",
       "      <td>[222389.85328911748]</td>\n",
       "      <td>[0.05252972725083085]</td>\n",
       "      <td>[[0.35392920090606994], [0.35248223420933167],...</td>\n",
       "      <td>[[0.04716042555755491], [0.044965167776585616]...</td>\n",
       "    </tr>\n",
       "    <tr>\n",
       "      <th>2</th>\n",
       "      <td>3</td>\n",
       "      <td>727949.0</td>\n",
       "      <td>727982.0</td>\n",
       "      <td>34.0</td>\n",
       "      <td>[727949.0, 727950.0, 727951.0, 727952.0, 72795...</td>\n",
       "      <td>[-0.009506249999999994, -0.021681249999999958,...</td>\n",
       "      <td>[6225675790.247264, 14753222515.156181, 180200...</td>\n",
       "      <td>[44516.22347201959, 68528.07147179543, 75736.2...</td>\n",
       "      <td>1</td>\n",
       "      <td>[4.68624181126097e-06, 3.770623531094761e-06, ...</td>\n",
       "      <td>[[[118.375, 118.43338213762812, 118.6062312312...</td>\n",
       "      <td>[[118.875, 15.125], [118.875, 14.875], [118.62...</td>\n",
       "      <td>[-134178.6453078576]</td>\n",
       "      <td>[-0.04567628176329575]</td>\n",
       "      <td>[-55597.46332227937]</td>\n",
       "      <td>[-0.018926151730078764]</td>\n",
       "      <td>[[0.12680375962826826], [0.15216259040720712],...</td>\n",
       "      <td>[[0.005702614188653442], [0.007613075801210582...</td>\n",
       "    </tr>\n",
       "    <tr>\n",
       "      <th>3</th>\n",
       "      <td>4</td>\n",
       "      <td>727930.0</td>\n",
       "      <td>727985.0</td>\n",
       "      <td>56.0</td>\n",
       "      <td>[727930.0, 727931.0, 727932.0, 727933.0, 72793...</td>\n",
       "      <td>[-0.0871875, -0.08626249999999999, -0.08258125...</td>\n",
       "      <td>[67125493398.966774, 62211634673.84232, 585548...</td>\n",
       "      <td>[146173.55494020082, 140721.63427255355, 13652...</td>\n",
       "      <td>1</td>\n",
       "      <td>[4.7278965368901895e-06, 4.9974122119023494e-0...</td>\n",
       "      <td>[[[111.125, 111.375, 111.46845281638625, 111.6...</td>\n",
       "      <td>[[112.375, 9.625], [112.375, 9.625], [112.375,...</td>\n",
       "      <td>[-328888.84920378035]</td>\n",
       "      <td>[-0.0679747125503845]</td>\n",
       "      <td>[-138993.65830569842]</td>\n",
       "      <td>[-0.02872719459029812]</td>\n",
       "      <td>[[0.37031183174407534], [0.37156503420446724],...</td>\n",
       "      <td>[[0.05419673412000216], [0.056296501822538224]...</td>\n",
       "    </tr>\n",
       "    <tr>\n",
       "      <th>4</th>\n",
       "      <td>5</td>\n",
       "      <td>727944.0</td>\n",
       "      <td>727987.0</td>\n",
       "      <td>44.0</td>\n",
       "      <td>[727944.0, 727945.0, 727946.0, 727947.0, 72794...</td>\n",
       "      <td>[0.007575000000000001, 0.012012500000000004, 0...</td>\n",
       "      <td>[8655732881.93327, 12941267500.89676, 15738534...</td>\n",
       "      <td>[52490.04999507501, 64182.03319687245, 70779.4...</td>\n",
       "      <td>-1</td>\n",
       "      <td>[-4.21671231468934e-06, -4.214128511382315e-06...</td>\n",
       "      <td>[[[114.125, 114.27886710239652, 114.375, 114.6...</td>\n",
       "      <td>[[114.375, 10.375], [114.375, 10.375], [114.12...</td>\n",
       "      <td>[-164065.2907899769]</td>\n",
       "      <td>[-0.0431569051951749]</td>\n",
       "      <td>[-83396.19498341906]</td>\n",
       "      <td>[-0.021937130414409475]</td>\n",
       "      <td>[[0.1075870142422782], [0.13724410868079404], ...</td>\n",
       "      <td>[[0.004261353721842516], [0.006642737660652458...</td>\n",
       "    </tr>\n",
       "  </tbody>\n",
       "</table>\n",
       "</div>"
      ],
      "text/plain": [
       "  id  date_start  date_end  duration  \\\n",
       "0  1    727951.0  727978.0      28.0   \n",
       "1  2    727930.0  727978.0      49.0   \n",
       "2  3    727949.0  727982.0      34.0   \n",
       "3  4    727930.0  727985.0      56.0   \n",
       "4  5    727944.0  727987.0      44.0   \n",
       "\n",
       "                                                time  \\\n",
       "0  [727951.0, 727952.0, 727953.0, 727954.0, 72795...   \n",
       "1  [727930.0, 727931.0, 727932.0, 727933.0, 72793...   \n",
       "2  [727949.0, 727950.0, 727951.0, 727952.0, 72795...   \n",
       "3  [727930.0, 727931.0, 727932.0, 727933.0, 72793...   \n",
       "4  [727944.0, 727945.0, 727946.0, 727947.0, 72794...   \n",
       "\n",
       "                                           amplitude  \\\n",
       "0  [-0.007712499999999983, -0.012131249999999968,...   \n",
       "1  [0.12278125000000001, 0.12778125, 0.1111187500...   \n",
       "2  [-0.009506249999999994, -0.021681249999999958,...   \n",
       "3  [-0.0871875, -0.08626249999999999, -0.08258125...   \n",
       "4  [0.007575000000000001, 0.012012500000000004, 0...   \n",
       "\n",
       "                                                area  \\\n",
       "0  [5455659440.894975, 8121446992.162614, 9907658...   \n",
       "1  [43276528576.180664, 43680949487.472404, 40409...   \n",
       "2  [6225675790.247264, 14753222515.156181, 180200...   \n",
       "3  [67125493398.966774, 62211634673.84232, 585548...   \n",
       "4  [8655732881.93327, 12941267500.89676, 15738534...   \n",
       "\n",
       "                                              radius cyc  \\\n",
       "0  [41672.41696480782, 50844.241244441546, 56157....   1   \n",
       "1  [117368.4237157236, 117915.5547828922, 113414....  -1   \n",
       "2  [44516.22347201959, 68528.07147179543, 75736.2...   1   \n",
       "3  [146173.55494020082, 140721.63427255355, 13652...   1   \n",
       "4  [52490.04999507501, 64182.03319687245, 70779.4...  -1   \n",
       "\n",
       "                                           vorticity  \\\n",
       "0  [6.471079552603794e-06, 6.805875491400245e-06,...   \n",
       "1  [-5.640043829890309e-06, -5.616555549326674e-0...   \n",
       "2  [4.68624181126097e-06, 3.770623531094761e-06, ...   \n",
       "3  [4.7278965368901895e-06, 4.9974122119023494e-0...   \n",
       "4  [-4.21671231468934e-06, -4.214128511382315e-06...   \n",
       "\n",
       "                                            boundary  \\\n",
       "0  [[[115.375, 115.625, 115.875, 116.125, 116.375...   \n",
       "1  [[[124.625, 124.57964887467716, 124.4362843058...   \n",
       "2  [[[118.375, 118.43338213762812, 118.6062312312...   \n",
       "3  [[[111.125, 111.375, 111.46845281638625, 111.6...   \n",
       "4  [[[114.125, 114.27886710239652, 114.375, 114.6...   \n",
       "\n",
       "                                         center_traj                     dx  \\\n",
       "0  [[115.875, 11.625], [115.875, 11.625], [115.62...  [-108913.97563481628]   \n",
       "1  [[123.875, 20.125], [123.625, 20.125], [123.62...   [-391521.2849715277]   \n",
       "2  [[118.875, 15.125], [118.875, 14.875], [118.62...   [-134178.6453078576]   \n",
       "3  [[112.375, 9.625], [112.375, 9.625], [112.375,...  [-328888.84920378035]   \n",
       "4  [[114.375, 10.375], [114.375, 10.375], [114.12...   [-164065.2907899769]   \n",
       "\n",
       "                  speed_x                     dy                  speed_y  \\\n",
       "0   [-0.0450206579178308]  [-305786.04827253654]   [-0.12639965619731172]   \n",
       "1  [-0.09247951742524747]   [222389.85328911748]    [0.05252972725083085]   \n",
       "2  [-0.04567628176329575]   [-55597.46332227937]  [-0.018926151730078764]   \n",
       "3   [-0.0679747125503845]  [-138993.65830569842]   [-0.02872719459029812]   \n",
       "4   [-0.0431569051951749]   [-83396.19498341906]  [-0.021937130414409475]   \n",
       "\n",
       "                                             edgespd  \\\n",
       "0  [[0.13423669025789728], [0.17275709113497995],...   \n",
       "1  [[0.35392920090606994], [0.35248223420933167],...   \n",
       "2  [[0.12680375962826826], [0.15216259040720712],...   \n",
       "3  [[0.37031183174407534], [0.37156503420446724],...   \n",
       "4  [[0.1075870142422782], [0.13724410868079404], ...   \n",
       "\n",
       "                                                  KE  \n",
       "0  [[0.00470504440386122], [0.0110756746073456], ...  \n",
       "1  [[0.04716042555755491], [0.044965167776585616]...  \n",
       "2  [[0.005702614188653442], [0.007613075801210582...  \n",
       "3  [[0.05419673412000216], [0.056296501822538224]...  \n",
       "4  [[0.004261353721842516], [0.006642737660652458...  "
      ]
     },
     "execution_count": 177,
     "metadata": {},
     "output_type": "execute_result"
    }
   ],
   "source": [
    "df.head()"
   ]
  },
  {
   "cell_type": "code",
   "execution_count": 166,
   "id": "physical-driver",
   "metadata": {
    "execution": {
     "iopub.execute_input": "2021-03-29T17:11:13.696628Z",
     "iopub.status.busy": "2021-03-29T17:11:13.696250Z",
     "iopub.status.idle": "2021-03-29T17:11:14.061299Z",
     "shell.execute_reply": "2021-03-29T17:11:14.059920Z",
     "shell.execute_reply.started": "2021-03-29T17:11:13.696595Z"
    }
   },
   "outputs": [
    {
     "data": {
      "text/plain": [
       "(array([ 10.,  22.,  46.,  64.,  74., 102., 106., 127., 131., 135., 110.,\n",
       "        128., 115., 117., 125.,  92.,  87.,  86.,  83.,  47.,  47.,  42.,\n",
       "         37.,  18.,  18.,  13.,   7.,   4.,   3.,   3.]),\n",
       " array([ 39322.27602649,  43245.1308577 ,  47167.98568891,  51090.84052012,\n",
       "         55013.69535133,  58936.55018255,  62859.40501376,  66782.25984497,\n",
       "         70705.11467618,  74627.96950739,  78550.82433861,  82473.67916982,\n",
       "         86396.53400103,  90319.38883224,  94242.24366345,  98165.09849467,\n",
       "        102087.95332588, 106010.80815709, 109933.6629883 , 113856.51781952,\n",
       "        117779.37265073, 121702.22748194, 125625.08231315, 129547.93714436,\n",
       "        133470.79197558, 137393.64680679, 141316.501638  , 145239.35646921,\n",
       "        149162.21130042, 153085.06613164, 157007.92096285]),\n",
       " <BarContainer object of 30 artists>)"
      ]
     },
     "execution_count": 166,
     "metadata": {},
     "output_type": "execute_result"
    },
    {
     "data": {
      "image/png": "[encoded data removed]",
      "text/plain": [
       "<Figure size 432x288 with 1 Axes>"
      ]
     },
     "metadata": {
      "needs_background": "light"
     },
     "output_type": "display_data"
    }
   ],
   "source": [
    "plt.hist([data.mean() for data in df.radius], bins=30)"
   ]
  },
  {
   "cell_type": "code",
   "execution_count": 167,
   "id": "impossible-newfoundland",
   "metadata": {
    "execution": {
     "iopub.execute_input": "2021-03-29T17:12:03.416894Z",
     "iopub.status.busy": "2021-03-29T17:12:03.416529Z",
     "iopub.status.idle": "2021-03-29T17:12:03.705639Z",
     "shell.execute_reply": "2021-03-29T17:12:03.704279Z",
     "shell.execute_reply.started": "2021-03-29T17:12:03.416862Z"
    }
   },
   "outputs": [
    {
     "data": {
      "text/plain": [
       "(array([  1.,   1.,   0.,   4.,   4.,   7.,  12.,  14.,  24.,  38.,  50.,\n",
       "         98., 162., 214., 220., 217.,  11., 104., 233., 201., 115., 101.,\n",
       "         81.,  38.,  21.,   9.,   9.,   6.,   2.,   2.]),\n",
       " array([-0.24367969, -0.22912523, -0.21457077, -0.20001631, -0.18546186,\n",
       "        -0.1709074 , -0.15635294, -0.14179848, -0.12724403, -0.11268957,\n",
       "        -0.09813511, -0.08358065, -0.0690262 , -0.05447174, -0.03991728,\n",
       "        -0.02536282, -0.01080837,  0.00374609,  0.01830055,  0.03285501,\n",
       "         0.04740946,  0.06196392,  0.07651838,  0.09107284,  0.10562729,\n",
       "         0.12018175,  0.13473621,  0.14929067,  0.16384512,  0.17839958,\n",
       "         0.19295404]),\n",
       " <BarContainer object of 30 artists>)"
      ]
     },
     "execution_count": 167,
     "metadata": {},
     "output_type": "execute_result"
    },
    {
     "data": {
      "image/png": "[encoded data removed]",
      "text/plain": [
       "<Figure size 432x288 with 1 Axes>"
      ]
     },
     "metadata": {
      "needs_background": "light"
     },
     "output_type": "display_data"
    }
   ],
   "source": [
    "plt.hist([data.mean() for data in df.amplitude], bins=30)"
   ]
  },
  {
   "cell_type": "code",
   "execution_count": 168,
   "id": "chubby-logistics",
   "metadata": {
    "execution": {
     "iopub.execute_input": "2021-03-29T17:12:29.040481Z",
     "iopub.status.busy": "2021-03-29T17:12:29.040127Z",
     "iopub.status.idle": "2021-03-29T17:12:29.311568Z",
     "shell.execute_reply": "2021-03-29T17:12:29.309564Z",
     "shell.execute_reply.started": "2021-03-29T17:12:29.040451Z"
    }
   },
   "outputs": [
    {
     "data": {
      "text/plain": [
       "(array([ 922.,    0.,    0.,    0.,    0.,    0.,    0.,    0.,    0.,\n",
       "           0.,    0.,    0.,    0.,    0.,    0.,    0.,    0.,    0.,\n",
       "           0.,    0.,    0.,    0.,    0.,    0.,    0.,    0.,    0.,\n",
       "           0.,    0., 1077.]),\n",
       " array([-1.0, -0.9333333333333333, -0.8666666666666667, -0.8,\n",
       "        -0.7333333333333334, -0.6666666666666667, -0.6,\n",
       "        -0.5333333333333333, -0.4666666666666667, -0.4,\n",
       "        -0.33333333333333337, -0.2666666666666667, -0.19999999999999996,\n",
       "        -0.1333333333333333, -0.06666666666666665, 0.0,\n",
       "        0.06666666666666665, 0.1333333333333333, 0.19999999999999996,\n",
       "        0.2666666666666666, 0.33333333333333326, 0.3999999999999999,\n",
       "        0.46666666666666656, 0.5333333333333332, 0.6000000000000001,\n",
       "        0.6666666666666667, 0.7333333333333334, 0.8, 0.8666666666666667,\n",
       "        0.9333333333333333, 1.0], dtype=object),\n",
       " <BarContainer object of 30 artists>)"
      ]
     },
     "execution_count": 168,
     "metadata": {},
     "output_type": "execute_result"
    },
    {
     "data": {
      "image/png": "[encoded data removed]",
      "text/plain": [
       "<Figure size 432x288 with 1 Axes>"
      ]
     },
     "metadata": {
      "needs_background": "light"
     },
     "output_type": "display_data"
    }
   ],
   "source": [
    "plt.hist(df.cyc, bins=30)"
   ]
  },
  {
   "cell_type": "code",
   "execution_count": 169,
   "id": "thick-representation",
   "metadata": {
    "execution": {
     "iopub.execute_input": "2021-03-29T17:12:53.062654Z",
     "iopub.status.busy": "2021-03-29T17:12:53.062282Z",
     "iopub.status.idle": "2021-03-29T17:12:53.337260Z",
     "shell.execute_reply": "2021-03-29T17:12:53.335565Z",
     "shell.execute_reply.started": "2021-03-29T17:12:53.062624Z"
    }
   },
   "outputs": [
    {
     "data": {
      "text/plain": [
       "(array([633., 396., 206., 191., 124.,  98.,  77.,  61.,  44.,  38.,  26.,\n",
       "         23.,  21.,  16.,   9.,  10.,   5.,   2.,   9.,   0.,   3.,   2.,\n",
       "          2.,   0.,   1.,   0.,   0.,   1.,   0.,   1.]),\n",
       " array([ 28.        ,  39.53333333,  51.06666667,  62.6       ,\n",
       "         74.13333333,  85.66666667,  97.2       , 108.73333333,\n",
       "        120.26666667, 131.8       , 143.33333333, 154.86666667,\n",
       "        166.4       , 177.93333333, 189.46666667, 201.        ,\n",
       "        212.53333333, 224.06666667, 235.6       , 247.13333333,\n",
       "        258.66666667, 270.2       , 281.73333333, 293.26666667,\n",
       "        304.8       , 316.33333333, 327.86666667, 339.4       ,\n",
       "        350.93333333, 362.46666667, 374.        ]),\n",
       " <BarContainer object of 30 artists>)"
      ]
     },
     "execution_count": 169,
     "metadata": {},
     "output_type": "execute_result"
    },
    {
     "data": {
      "image/png": "[encoded data removed]",
      "text/plain": [
       "<Figure size 432x288 with 1 Axes>"
      ]
     },
     "metadata": {
      "needs_background": "light"
     },
     "output_type": "display_data"
    }
   ],
   "source": [
    "plt.hist(df.duration, bins=30)"
   ]
  },
  {
   "cell_type": "code",
   "execution_count": 171,
   "id": "growing-timothy",
   "metadata": {
    "execution": {
     "iopub.execute_input": "2021-03-29T17:14:31.811512Z",
     "iopub.status.busy": "2021-03-29T17:14:31.811157Z",
     "iopub.status.idle": "2021-03-29T17:14:32.128333Z",
     "shell.execute_reply": "2021-03-29T17:14:32.127123Z",
     "shell.execute_reply.started": "2021-03-29T17:14:31.811482Z"
    }
   },
   "outputs": [
    {
     "data": {
      "text/plain": [
       "(array([  4.,   6.,  20.,  31.,  59., 100., 149., 235., 231.,  83.,   4.,\n",
       "          0.,   0.,   0.,   2.,  29., 161., 270., 209., 124., 118.,  82.,\n",
       "         30.,  23.,   9.,   8.,   4.,   2.,   3.,   3.]),\n",
       " array([-1.39800009e-05, -1.28826273e-05, -1.17852538e-05, -1.06878802e-05,\n",
       "        -9.59050666e-06, -8.49313311e-06, -7.39575956e-06, -6.29838601e-06,\n",
       "        -5.20101246e-06, -4.10363891e-06, -3.00626536e-06, -1.90889181e-06,\n",
       "        -8.11518260e-07,  2.85855289e-07,  1.38322884e-06,  2.48060239e-06,\n",
       "         3.57797594e-06,  4.67534949e-06,  5.77272304e-06,  6.87009659e-06,\n",
       "         7.96747013e-06,  9.06484368e-06,  1.01622172e-05,  1.12595908e-05,\n",
       "         1.23569643e-05,  1.34543379e-05,  1.45517114e-05,  1.56490850e-05,\n",
       "         1.67464585e-05,  1.78438321e-05,  1.89412056e-05]),\n",
       " <BarContainer object of 30 artists>)"
      ]
     },
     "execution_count": 171,
     "metadata": {},
     "output_type": "execute_result"
    },
    {
     "data": {
      "image/png": "[encoded data removed]",
      "text/plain": [
       "<Figure size 432x288 with 1 Axes>"
      ]
     },
     "metadata": {
      "needs_background": "light"
     },
     "output_type": "display_data"
    }
   ],
   "source": [
    "plt.hist([data.mean() for data in df.vorticity], bins=30)"
   ]
  },
  {
   "cell_type": "code",
   "execution_count": 178,
   "id": "gross-diameter",
   "metadata": {
    "execution": {
     "iopub.execute_input": "2021-03-29T17:23:32.985015Z",
     "iopub.status.busy": "2021-03-29T17:23:32.984199Z",
     "iopub.status.idle": "2021-03-29T17:23:33.287259Z",
     "shell.execute_reply": "2021-03-29T17:23:33.286148Z",
     "shell.execute_reply.started": "2021-03-29T17:23:32.984903Z"
    }
   },
   "outputs": [
    {
     "data": {
      "text/plain": [
       "(array([409., 507., 399., 228., 166.,  75.,  57.,  43.,  30.,  31.,  16.,\n",
       "         12.,   9.,   3.,   3.,   1.,   1.,   2.,   2.,   2.,   0.,   0.,\n",
       "          1.,   0.,   0.,   0.,   1.,   0.,   0.,   1.]),\n",
       " array([0.00324215, 0.0117558 , 0.02026946, 0.02878311, 0.03729677,\n",
       "        0.04581042, 0.05432408, 0.06283773, 0.07135139, 0.07986504,\n",
       "        0.0883787 , 0.09689235, 0.10540601, 0.11391967, 0.12243332,\n",
       "        0.13094698, 0.13946063, 0.14797429, 0.15648794, 0.1650016 ,\n",
       "        0.17351525, 0.18202891, 0.19054256, 0.19905622, 0.20756987,\n",
       "        0.21608353, 0.22459718, 0.23311084, 0.24162449, 0.25013815,\n",
       "        0.2586518 ]),\n",
       " <BarContainer object of 30 artists>)"
      ]
     },
     "execution_count": 178,
     "metadata": {},
     "output_type": "execute_result"
    },
    {
     "data": {
      "image/png": "[encoded data removed]",
      "text/plain": [
       "<Figure size 432x288 with 1 Axes>"
      ]
     },
     "metadata": {
      "needs_background": "light"
     },
     "output_type": "display_data"
    }
   ],
   "source": [
    "plt.hist([data.mean() for data in df.KE], bins=30)"
   ]
  },
  {
   "cell_type": "code",
   "execution_count": 179,
   "id": "better-composite",
   "metadata": {
    "execution": {
     "iopub.execute_input": "2021-03-29T17:23:51.146353Z",
     "iopub.status.busy": "2021-03-29T17:23:51.145902Z",
     "iopub.status.idle": "2021-03-29T17:23:51.436959Z",
     "shell.execute_reply": "2021-03-29T17:23:51.435575Z",
     "shell.execute_reply.started": "2021-03-29T17:23:51.146319Z"
    }
   },
   "outputs": [
    {
     "data": {
      "text/plain": [
       "(array([ 28., 101., 196., 217., 235., 222., 236., 174., 153., 114.,  78.,\n",
       "         52.,  52.,  40.,  25.,  26.,  16.,  13.,   9.,   2.,   1.,   3.,\n",
       "          1.,   1.,   2.,   0.,   0.,   1.,   0.,   1.]),\n",
       " array([0.09358328, 0.11838381, 0.14318434, 0.16798486, 0.19278539,\n",
       "        0.21758592, 0.24238645, 0.26718697, 0.2919875 , 0.31678803,\n",
       "        0.34158856, 0.36638908, 0.39118961, 0.41599014, 0.44079067,\n",
       "        0.46559119, 0.49039172, 0.51519225, 0.53999278, 0.5647933 ,\n",
       "        0.58959383, 0.61439436, 0.63919489, 0.66399541, 0.68879594,\n",
       "        0.71359647, 0.738397  , 0.76319752, 0.78799805, 0.81279858,\n",
       "        0.83759911]),\n",
       " <BarContainer object of 30 artists>)"
      ]
     },
     "execution_count": 179,
     "metadata": {},
     "output_type": "execute_result"
    },
    {
     "data": {
      "image/png": "[encoded data removed]",
      "text/plain": [
       "<Figure size 432x288 with 1 Axes>"
      ]
     },
     "metadata": {
      "needs_background": "light"
     },
     "output_type": "display_data"
    }
   ],
   "source": [
    "plt.hist([data.mean() for data in df.edgespd], bins=30)"
   ]
  },
  {
   "cell_type": "code",
   "execution_count": null,
   "id": "colored-proposition",
   "metadata": {},
   "outputs": [],
   "source": []
  },
  {
   "cell_type": "code",
   "execution_count": null,
   "id": "individual-entrepreneur",
   "metadata": {},
   "outputs": [],
   "source": []
  },
  {
   "cell_type": "code",
   "execution_count": null,
   "id": "aggregate-direction",
   "metadata": {},
   "outputs": [],
   "source": [
    "import os\n",
    "import sys\n",
    "import numpy as np\n",
    "import xarray as xr\n",
    "from datetime import datetime\n",
    "from tqdm import tqdm\n",
    "from floater import rclv_zwd\n",
    "import pandas as pd\n",
    "import gsw\n",
    "\n",
    "# compute eddy area and radius according to different lat\n",
    "# area: km^2 radius: km\n",
    "def compute_radius(lat, num):\n",
    "    lt = np.zeros((36, 2))\n",
    "    lt[:, 0] = np.arange(0.5, 36, 1)\n",
    "    lt[:, 1] = np.arange(0.5, 36, 1)\n",
    "    ln = np.zeros((36, 2))\n",
    "    for i in np.arange(36):\n",
    "        ln[i, 0] = 0\n",
    "        ln[i, 1] = 1\n",
    "    l1 = gsw.distance(ln, lt, axis=1)\n",
    "    l2 = gsw.distance(ln, lt, axis=0)\n",
    "    bin_area = l1[:35] * l2[:, 0].T\n",
    "    bin_area = bin_area[:, 0]\n",
    "    \n",
    "    lat0 = np.arange(0.5, 36, 1)\n",
    "    \n",
    "    index = np.abs(lat0 - lat).argmin()\n",
    "    area = bin_area[index] /1024 /1e6 * num\n",
    "    # 1024 = 32 * 32\n",
    "    radius = np.sqrt((bin_area[index] /1024 /1e6 * num)/ np.pi)\n",
    "    return area, radius\n",
    "\n",
    "n_time = 3\n",
    "base_dir= '/swot/SUM01/tongya/global_RCLV/float_trajectories_lavd/'\n",
    "\n",
    "#n_time = 3 \n",
    "# 3, 6, 9 respond to 30, 60, 90 day eddies respectively\n",
    "\n",
    "R = 6.371e6 # Earth radius\n",
    "lat_to_meters = np.pi*R/180\n",
    "Om = 7.2921e-5 # rotation rate\n",
    "sec_per_day = 24*60*60\n",
    "\n",
    "# south china sea\n",
    "xx0 = 105; xx1 = 125;\n",
    "yy0 = 0; yy1 = 30;\n",
    "\n",
    "for year in np.arange(1993, 2016, 1):\n",
    "\n",
    "    cols=['id', 'date_start', 'date_end', 'duration', 'area', 'radius', 'cyc', 'center_traj', 'dx', 'speed_x', 'dy', 'speed_y']\n",
    "    df = pd.DataFrame(columns=cols)\n",
    "\n",
    "    print(year)\n",
    "    for mon in np.arange(12):\n",
    "\n",
    "        print('mon:' + str(mon+1))\n",
    "        fn = str(year) + '-' +  str(mon+1).zfill(2) + '-01'\n",
    "\n",
    "        ddir = os.path.join(base_dir, fn + '_netcdf')\n",
    "        ds = xr.open_mfdataset(os.path.join(ddir, '*.nc'))\n",
    "\n",
    "        ds = ds.sel(x0=slice(xx0, xx1), y0=slice(yy0, yy1))\n",
    "\n",
    "        date_start = ds.time[0].values.astype('<M8[s]').astype(datetime)\n",
    "        date_end = ds.time[n_time].values.astype('<M8[s]').astype(datetime)\n",
    "        duration = (date_end - date_start).days\n",
    "\n",
    "        lavd = ds.lavd[n_time].to_masked_array().filled(0)\n",
    "\n",
    "        # particles position to compute coherency index\n",
    "        lx0 = ds.x[0, :, :]\n",
    "        lx1 = ds.x[n_time, :, :]\n",
    "\n",
    "        ly0 = ds.y[0, :, :]\n",
    "        ly1 = ds.y[n_time, :, :]\n",
    "\n",
    "        lxt = (lx0.values, lx1.values)\n",
    "        lyt = (ly0.values, ly1.values)\n",
    "\n",
    "        # ci_th is -np.inf means ci is not active\n",
    "        # cd is the only paremeter to filter contours\n",
    "        # particle resolution 1/32 degree\n",
    "        kwargs = dict(CI_th=-np.inf, CI_tol=0.1, min_distance=13, min_limit_diff=1e-8,\n",
    "                      min_area=169, max_footprint=100000, progress=True, convex_def=0.1, \n",
    "                      max_width=100)\n",
    "\n",
    "        contours = list(rclv_zwd.find_convex_contours(lavd, lxt, lyt, **kwargs))\n",
    "\n",
    "        mask = rclv_zwd.label_points_in_contours(lavd.shape, [c[1] for c in contours])\n",
    "        mask_da = xr.DataArray(mask, dims=['y0', 'x0'], name='mask',\n",
    "                               coords={'y0': ds.y0, 'x0': ds.x0})\n",
    "\n",
    "        vort_tmp = ds.vort[n_time] * 1e6\n",
    "        vort_avg = (vort_tmp\n",
    "                    .groupby(mask_da)\n",
    "                    .mean(dim='stacked_y0_x0'))\n",
    "\n",
    "        mask_uni = np.unique(mask)\n",
    "\n",
    "        for i_rclv, (center, contour, pnum, cd, ci) in enumerate(contours):\n",
    "\n",
    "            print(i_rclv)\n",
    "\n",
    "            mask_value = i_rclv + 1\n",
    "\n",
    "            if mask_value in mask_uni:\n",
    "\n",
    "                vort = vort_avg.sel(mask=mask_value).values.item()\n",
    "                fn_str = fn[:4] + fn[5:7] + fn[-2:]\n",
    "                eddy_id = '%s_%03dday_%06d' % (fn_str, duration, i_rclv+1)\n",
    "                \n",
    "                # big bug!!!!\n",
    "                #eddy_id = '%s_%03dday_%06d' % (fn, duration, i_rclv+1)\n",
    "                print(eddy_id)\n",
    "                j, i = center\n",
    "                center_traj = (ds[['x', 'y']].isel(time=slice(0, n_time+1), x0=i, y0=j)\n",
    "                               .to_dataframe()[['x', 'y']]\n",
    "                               .values.tolist())\n",
    "\n",
    "                area, radius = compute_radius(center_traj[0][1], pnum)\n",
    "\n",
    "                lat_mean = 0.5 * (center_traj[0][1] + center_traj[-1][1])\n",
    "                lon_to_meters = lat_to_meters *np.cos(np.radians(lat_mean))\n",
    "\n",
    "                delta_lon = center_traj[-1][0] - center_traj[0][0]\n",
    "                delta_lat = center_traj[-1][1] - center_traj[0][1]\n",
    "\n",
    "                displacement_x = delta_lon * lon_to_meters / 1e3\n",
    "                displacement_y = delta_lat * lat_to_meters / 1e3\n",
    "\n",
    "                speed_x = displacement_x / (duration * sec_per_day)\n",
    "                speed_y = displacement_y / (duration * sec_per_day)\n",
    "\n",
    "                if vort > 0:\n",
    "                    cyc = -1\n",
    "                else:\n",
    "                    cyc = 1\n",
    "\n",
    "                data = {'id': eddy_id,\n",
    "                        'date_start': date_start,\n",
    "                        'date_end': date_end,\n",
    "                        'duration': duration,\n",
    "                        'area': area,\n",
    "                        'radius': radius,\n",
    "                        'cyc': cyc,\n",
    "                        'center_traj': center_traj,\n",
    "                        'dx': displacement_x,\n",
    "                        'speed_x': speed_x,\n",
    "                        'dy': displacement_y,\n",
    "                        'speed_y': speed_y\n",
    "                }\n",
    "\n",
    "\n",
    "                # save particles trajectories to netcdf file\n",
    "                region = (ds[['x', 'y']]\n",
    "                          .isel(time=slice(0, n_time+1))\n",
    "                          .where(mask_da==mask_value, drop=True).load())\n",
    "\n",
    "                df = df.append(data, ignore_index=True)\n",
    "                netdir = '/swot/SUM01/tongya/RCLV_SCS/Trajectory/' + eddy_id + '.nc'\n",
    "                region.to_netcdf(netdir)\n",
    "\n",
    "    dfname = '/swot/SUM01/tongya/RCLV_SCS/RCLV_info/RCLV_' + str(duration) + 'day_' + str(year) + '.csv'\n",
    "    df.to_csv(dfname, index=False)"
   ]
  }
 ],
 "metadata": {
  "kernelspec": {
   "display_name": "Python 3",
   "language": "python",
   "name": "python3"
  },
  "language_info": {
   "codemirror_mode": {
    "name": "ipython",
    "version": 3
   },
   "file_extension": ".py",
   "mimetype": "text/x-python",
   "name": "python",
   "nbconvert_exporter": "python",
   "pygments_lexer": "ipython3",
   "version": "3.8.6"
  }
 },
 "nbformat": 4,
 "nbformat_minor": 5
}
