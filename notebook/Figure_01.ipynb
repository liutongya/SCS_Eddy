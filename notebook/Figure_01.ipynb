{
 "cells": [
  {
   "cell_type": "code",
   "execution_count": 2,
   "id": "romance-secretariat",
   "metadata": {
    "execution": {
     "iopub.execute_input": "2021-04-15T07:17:26.704624Z",
     "iopub.status.busy": "2021-04-15T07:17:26.704207Z",
     "iopub.status.idle": "2021-04-15T07:17:33.152842Z",
     "shell.execute_reply": "2021-04-15T07:17:33.151100Z",
     "shell.execute_reply.started": "2021-04-15T07:17:26.704575Z"
    }
   },
   "outputs": [],
   "source": [
    "from intake import open_catalog\n",
    "import datetime\n",
    "import cartopy.crs as ccrs\n",
    "import numpy as np\n",
    "import pandas as pd\n",
    "import scipy.io\n",
    "import gsw\n",
    "import gcsfs\n",
    "import xarray as xr\n",
    "import rclv\n",
    "from copy import deepcopy\n",
    "from skimage import measure\n",
    "from matplotlib import pyplot as plt\n",
    "%matplotlib inline"
   ]
  },
  {
   "cell_type": "code",
   "execution_count": 3,
   "id": "worthy-instrumentation",
   "metadata": {
    "execution": {
     "iopub.execute_input": "2021-04-15T07:17:33.155152Z",
     "iopub.status.busy": "2021-04-15T07:17:33.154802Z",
     "iopub.status.idle": "2021-04-15T07:17:33.213412Z",
     "shell.execute_reply": "2021-04-15T07:17:33.212163Z",
     "shell.execute_reply.started": "2021-04-15T07:17:33.155105Z"
    }
   },
   "outputs": [],
   "source": [
    "import cartopy.feature as cft\n",
    "import matplotlib.ticker as mticker\n",
    "from cartopy.mpl.ticker import LongitudeFormatter, LatitudeFormatter\n",
    "\n",
    "land_50m = cft.NaturalEarthFeature('physical', 'land', '50m', edgecolor='black', facecolor='dimgrey', linewidth=0.5)"
   ]
  },
  {
   "cell_type": "code",
   "execution_count": 4,
   "id": "several-employment",
   "metadata": {
    "execution": {
     "iopub.execute_input": "2021-04-15T07:18:14.995662Z",
     "iopub.status.busy": "2021-04-15T07:18:14.995258Z",
     "iopub.status.idle": "2021-04-15T07:18:30.467125Z",
     "shell.execute_reply": "2021-04-15T07:18:30.465703Z",
     "shell.execute_reply.started": "2021-04-15T07:18:14.995627Z"
    }
   },
   "outputs": [
    {
     "data": {
      "application/vnd.jupyter.widget-view+json": {
       "model_id": "8976f463a4a049feb146f31336abe7b0",
       "version_major": 2,
       "version_minor": 0
      },
      "text/plain": [
       "VBox(children=(HTML(value='<h2>GatewayCluster</h2>'), HBox(children=(HTML(value='\\n<div>\\n<style scoped>\\n    …"
      ]
     },
     "metadata": {},
     "output_type": "display_data"
    }
   ],
   "source": [
    "from dask.distributed import Client, progress\n",
    "from dask_gateway import Gateway\n",
    "\n",
    "gateway = Gateway()\n",
    "cluster = gateway.new_cluster()\n",
    "cluster.scale(12)\n",
    "cluster"
   ]
  },
  {
   "cell_type": "code",
   "execution_count": 5,
   "id": "annoying-commander",
   "metadata": {
    "execution": {
     "iopub.execute_input": "2021-04-15T07:18:30.469317Z",
     "iopub.status.busy": "2021-04-15T07:18:30.469009Z",
     "iopub.status.idle": "2021-04-15T07:18:30.541939Z",
     "shell.execute_reply": "2021-04-15T07:18:30.540631Z",
     "shell.execute_reply.started": "2021-04-15T07:18:30.469288Z"
    }
   },
   "outputs": [
    {
     "data": {
      "text/html": [
       "<table style=\"border: 2px solid white;\">\n",
       "<tr>\n",
       "<td style=\"vertical-align: top; border: 0px solid white\">\n",
       "<h3 style=\"text-align: left;\">Client</h3>\n",
       "<ul style=\"text-align: left; list-style: none; margin: 0; padding: 0;\">\n",
       "  <li><b>Scheduler: </b>gateway://traefik-gcp-uscentral1b-prod-dask-gateway.prod:80/prod.98e6f059a97a49f8bd3a445e5dc1ee7b</li>\n",
       "  <li><b>Dashboard: </b><a href='/services/dask-gateway/clusters/prod.98e6f059a97a49f8bd3a445e5dc1ee7b/status' target='_blank'>/services/dask-gateway/clusters/prod.98e6f059a97a49f8bd3a445e5dc1ee7b/status</a></li>\n",
       "</ul>\n",
       "</td>\n",
       "<td style=\"vertical-align: top; border: 0px solid white\">\n",
       "<h3 style=\"text-align: left;\">Cluster</h3>\n",
       "<ul style=\"text-align: left; list-style:none; margin: 0; padding: 0;\">\n",
       "  <li><b>Workers: </b>0</li>\n",
       "  <li><b>Cores: </b>0</li>\n",
       "  <li><b>Memory: </b>0 B</li>\n",
       "</ul>\n",
       "</td>\n",
       "</tr>\n",
       "</table>"
      ],
      "text/plain": [
       "<Client: 'tls://10.38.185.18:8786' processes=0 threads=0, memory=0 B>"
      ]
     },
     "execution_count": 5,
     "metadata": {},
     "output_type": "execute_result"
    }
   ],
   "source": [
    "client = Client(cluster)\n",
    "client"
   ]
  },
  {
   "cell_type": "code",
   "execution_count": 6,
   "id": "mexican-tablet",
   "metadata": {
    "execution": {
     "iopub.execute_input": "2021-04-15T07:18:43.864406Z",
     "iopub.status.busy": "2021-04-15T07:18:43.863977Z",
     "iopub.status.idle": "2021-04-15T07:18:56.231944Z",
     "shell.execute_reply": "2021-04-15T07:18:56.230746Z",
     "shell.execute_reply.started": "2021-04-15T07:18:43.864374Z"
    }
   },
   "outputs": [],
   "source": [
    "# load the time of eddy identification\n",
    "fn = '/home/jovyan/RCLVs/SCS/Eddies_SCS_structure_olddata.mat'\n",
    "data = scipy.io.loadmat(fn)\n",
    "\n",
    "data1 = data['eds_28d_stru']\n",
    "data2 = data['eds_28d_trk_stru']\n",
    "data3 = data['t_eddy']"
   ]
  },
  {
   "cell_type": "code",
   "execution_count": 7,
   "id": "living-validity",
   "metadata": {
    "execution": {
     "iopub.execute_input": "2021-04-15T07:18:56.234412Z",
     "iopub.status.busy": "2021-04-15T07:18:56.233900Z",
     "iopub.status.idle": "2021-04-15T07:18:56.241672Z",
     "shell.execute_reply": "2021-04-15T07:18:56.240374Z",
     "shell.execute_reply.started": "2021-04-15T07:18:56.234378Z"
    }
   },
   "outputs": [],
   "source": [
    "nyear = len(np.arange(1993, 2016, 1))\n",
    "date_st = np.zeros((nyear*12,))\n",
    "\n",
    "i = 0\n",
    "for year in np.arange(1993, 2016, 1):\n",
    "    for mon in np.arange(1, 13, 1):\n",
    "        date_st[i] = datetime.date.toordinal(datetime.date(year, mon, 1))\n",
    "        i += 1"
   ]
  },
  {
   "cell_type": "code",
   "execution_count": 8,
   "id": "extended-twenty",
   "metadata": {
    "execution": {
     "iopub.execute_input": "2021-04-15T07:18:56.244354Z",
     "iopub.status.busy": "2021-04-15T07:18:56.244041Z",
     "iopub.status.idle": "2021-04-15T07:18:57.159607Z",
     "shell.execute_reply": "2021-04-15T07:18:57.158057Z",
     "shell.execute_reply.started": "2021-04-15T07:18:56.244323Z"
    }
   },
   "outputs": [
    {
     "data": {
      "text/html": [
       "<div>\n",
       "<style scoped>\n",
       "    .dataframe tbody tr th:only-of-type {\n",
       "        vertical-align: middle;\n",
       "    }\n",
       "\n",
       "    .dataframe tbody tr th {\n",
       "        vertical-align: top;\n",
       "    }\n",
       "\n",
       "    .dataframe thead th {\n",
       "        text-align: right;\n",
       "    }\n",
       "</style>\n",
       "<table border=\"1\" class=\"dataframe\">\n",
       "  <thead>\n",
       "    <tr style=\"text-align: right;\">\n",
       "      <th></th>\n",
       "      <th>id</th>\n",
       "      <th>date_start</th>\n",
       "      <th>date_end</th>\n",
       "      <th>duration</th>\n",
       "      <th>time</th>\n",
       "      <th>amplitude</th>\n",
       "      <th>area</th>\n",
       "      <th>radius</th>\n",
       "      <th>cyc</th>\n",
       "      <th>vorticity</th>\n",
       "      <th>boundary</th>\n",
       "      <th>center_traj</th>\n",
       "      <th>dx</th>\n",
       "      <th>speed_x</th>\n",
       "      <th>dy</th>\n",
       "      <th>speed_y</th>\n",
       "      <th>edgespd</th>\n",
       "      <th>KE</th>\n",
       "    </tr>\n",
       "  </thead>\n",
       "  <tbody>\n",
       "    <tr>\n",
       "      <th>0</th>\n",
       "      <td>1</td>\n",
       "      <td>727930.0</td>\n",
       "      <td>727974.0</td>\n",
       "      <td>45.0</td>\n",
       "      <td>[727930.0, 727931.0, 727932.0, 727933.0, 72793...</td>\n",
       "      <td>[0.11838749999999995, 0.10981249999999995, 0.0...</td>\n",
       "      <td>[49443282949.5106, 51528771071.985535, 4807651...</td>\n",
       "      <td>[125452.32468237357, 128070.75097427328, 12370...</td>\n",
       "      <td>-1</td>\n",
       "      <td>[-5.079862108387701e-06, -3.9951094633436e-06,...</td>\n",
       "      <td>[[[124.625, 124.61302025441522, 124.4738922948...</td>\n",
       "      <td>[[123.875, 20.125], [123.625, 20.125], [123.62...</td>\n",
       "      <td>[-339318.446975324]</td>\n",
       "      <td>[-0.08727326311093725]</td>\n",
       "      <td>[138993.65830569842]</td>\n",
       "      <td>[0.03574939771237099]</td>\n",
       "      <td>[[0.3306296818218309], [0.3109364909168646], [...</td>\n",
       "      <td>[[0.038708667733539925], [0.033498247667763804...</td>\n",
       "    </tr>\n",
       "    <tr>\n",
       "      <th>1</th>\n",
       "      <td>2</td>\n",
       "      <td>727945.0</td>\n",
       "      <td>727975.0</td>\n",
       "      <td>31.0</td>\n",
       "      <td>[727945.0, 727948.0, 727949.0, 727950.0, 72795...</td>\n",
       "      <td>[-0.006193750000000012, -0.005843749999999995,...</td>\n",
       "      <td>[5364986281.95167, 4218629684.2609034, 4532162...</td>\n",
       "      <td>[41324.6678484611, 36644.66584168355, 37981.99...</td>\n",
       "      <td>1</td>\n",
       "      <td>[4.813249291474523e-06, 5.52552357938096e-06, ...</td>\n",
       "      <td>[[[116.125, 115.875, 115.625, 115.607487070992...</td>\n",
       "      <td>[[115.875, 11.125], [115.875, 11.375], [115.87...</td>\n",
       "      <td>[-136381.70384510676]</td>\n",
       "      <td>[-0.05091909492424834]</td>\n",
       "      <td>[-111194.92664455874]</td>\n",
       "      <td>[-0.04151542960146309]</td>\n",
       "      <td>[[0.10353754338132873], [0.10173062220777777],...</td>\n",
       "      <td>[[0.003056260480955768], [0.003557561833914299...</td>\n",
       "    </tr>\n",
       "    <tr>\n",
       "      <th>2</th>\n",
       "      <td>3</td>\n",
       "      <td>727943.0</td>\n",
       "      <td>727990.0</td>\n",
       "      <td>48.0</td>\n",
       "      <td>[727943.0, 727944.0, 727945.0, 727946.0, 72794...</td>\n",
       "      <td>[-0.006606250000000029, -0.009631250000000015,...</td>\n",
       "      <td>[4649025713.992656, 6967506588.934885, 1071521...</td>\n",
       "      <td>[38468.56958461698, 47093.80245115778, 58401.6...</td>\n",
       "      <td>1</td>\n",
       "      <td>[6.4026038674683805e-06, 5.528846823722682e-06...</td>\n",
       "      <td>[[[112.875, 112.93956392887384, 113.125, 113.3...</td>\n",
       "      <td>[[113.375, 11.625], [113.125, 11.375], [113.37...</td>\n",
       "      <td>[-81685.48172611221]</td>\n",
       "      <td>[-0.019696537839050975]</td>\n",
       "      <td>[-27798.731661139685]</td>\n",
       "      <td>[-0.006703012071069561]</td>\n",
       "      <td>[[0.11627046908731815], [0.14219361701199912],...</td>\n",
       "      <td>[[0.0032280474944493486], [0.00597119645133987...</td>\n",
       "    </tr>\n",
       "  </tbody>\n",
       "</table>\n",
       "</div>"
      ],
      "text/plain": [
       "  id  date_start  date_end  duration  \\\n",
       "0  1    727930.0  727974.0      45.0   \n",
       "1  2    727945.0  727975.0      31.0   \n",
       "2  3    727943.0  727990.0      48.0   \n",
       "\n",
       "                                                time  \\\n",
       "0  [727930.0, 727931.0, 727932.0, 727933.0, 72793...   \n",
       "1  [727945.0, 727948.0, 727949.0, 727950.0, 72795...   \n",
       "2  [727943.0, 727944.0, 727945.0, 727946.0, 72794...   \n",
       "\n",
       "                                           amplitude  \\\n",
       "0  [0.11838749999999995, 0.10981249999999995, 0.0...   \n",
       "1  [-0.006193750000000012, -0.005843749999999995,...   \n",
       "2  [-0.006606250000000029, -0.009631250000000015,...   \n",
       "\n",
       "                                                area  \\\n",
       "0  [49443282949.5106, 51528771071.985535, 4807651...   \n",
       "1  [5364986281.95167, 4218629684.2609034, 4532162...   \n",
       "2  [4649025713.992656, 6967506588.934885, 1071521...   \n",
       "\n",
       "                                              radius cyc  \\\n",
       "0  [125452.32468237357, 128070.75097427328, 12370...  -1   \n",
       "1  [41324.6678484611, 36644.66584168355, 37981.99...   1   \n",
       "2  [38468.56958461698, 47093.80245115778, 58401.6...   1   \n",
       "\n",
       "                                           vorticity  \\\n",
       "0  [-5.079862108387701e-06, -3.9951094633436e-06,...   \n",
       "1  [4.813249291474523e-06, 5.52552357938096e-06, ...   \n",
       "2  [6.4026038674683805e-06, 5.528846823722682e-06...   \n",
       "\n",
       "                                            boundary  \\\n",
       "0  [[[124.625, 124.61302025441522, 124.4738922948...   \n",
       "1  [[[116.125, 115.875, 115.625, 115.607487070992...   \n",
       "2  [[[112.875, 112.93956392887384, 113.125, 113.3...   \n",
       "\n",
       "                                         center_traj                     dx  \\\n",
       "0  [[123.875, 20.125], [123.625, 20.125], [123.62...    [-339318.446975324]   \n",
       "1  [[115.875, 11.125], [115.875, 11.375], [115.87...  [-136381.70384510676]   \n",
       "2  [[113.375, 11.625], [113.125, 11.375], [113.37...   [-81685.48172611221]   \n",
       "\n",
       "                   speed_x                     dy                  speed_y  \\\n",
       "0   [-0.08727326311093725]   [138993.65830569842]    [0.03574939771237099]   \n",
       "1   [-0.05091909492424834]  [-111194.92664455874]   [-0.04151542960146309]   \n",
       "2  [-0.019696537839050975]  [-27798.731661139685]  [-0.006703012071069561]   \n",
       "\n",
       "                                             edgespd  \\\n",
       "0  [[0.3306296818218309], [0.3109364909168646], [...   \n",
       "1  [[0.10353754338132873], [0.10173062220777777],...   \n",
       "2  [[0.11627046908731815], [0.14219361701199912],...   \n",
       "\n",
       "                                                  KE  \n",
       "0  [[0.038708667733539925], [0.033498247667763804...  \n",
       "1  [[0.003056260480955768], [0.003557561833914299...  \n",
       "2  [[0.0032280474944493486], [0.00597119645133987...  "
      ]
     },
     "execution_count": 8,
     "metadata": {},
     "output_type": "execute_result"
    }
   ],
   "source": [
    "# load ssh eddy information\n",
    "df = pd.read_pickle('ssh_eddy.pkl')\n",
    "df.head(3)"
   ]
  },
  {
   "cell_type": "code",
   "execution_count": 9,
   "id": "afraid-supervision",
   "metadata": {
    "execution": {
     "iopub.execute_input": "2021-04-15T07:18:57.161615Z",
     "iopub.status.busy": "2021-04-15T07:18:57.161279Z",
     "iopub.status.idle": "2021-04-15T07:18:58.165524Z",
     "shell.execute_reply": "2021-04-15T07:18:58.164185Z",
     "shell.execute_reply.started": "2021-04-15T07:18:57.161584Z"
    }
   },
   "outputs": [],
   "source": [
    "cat = open_catalog(\"https://raw.githubusercontent.com/pangeo-data/pangeo-datastore/master/intake-catalogs/ocean.yaml\")\n",
    "ds_aviso  = cat[\"sea_surface_height\"].to_dask()"
   ]
  },
  {
   "cell_type": "markdown",
   "id": "attended-rabbit",
   "metadata": {},
   "source": [
    "#### Find random 30-day and 60-day eddies"
   ]
  },
  {
   "cell_type": "code",
   "execution_count": 10,
   "id": "civil-catch",
   "metadata": {
    "execution": {
     "iopub.execute_input": "2021-04-15T07:18:58.167329Z",
     "iopub.status.busy": "2021-04-15T07:18:58.166967Z",
     "iopub.status.idle": "2021-04-15T07:18:58.654747Z",
     "shell.execute_reply": "2021-04-15T07:18:58.653367Z",
     "shell.execute_reply.started": "2021-04-15T07:18:58.167297Z"
    }
   },
   "outputs": [],
   "source": [
    "eddy_30_id = []\n",
    "eddy_60_id = []\n",
    "\n",
    "for i in np.arange(1, 2394, 1):\n",
    "    \n",
    "    eddy_time = df.time[i] # lifetime of ssh eddy\n",
    "\n",
    "    date0_str = datetime.date.fromordinal(int(eddy_time[0]-366)).strftime('%Y-%m-%d')\n",
    "    \n",
    "    duration = df.duration[i]\n",
    "    \n",
    "    date_diff = (date_st - eddy_time[0] + 366).tolist()    # check the number!!!!!!\n",
    "    \n",
    "    var_tmp1 = [num for num in date_diff if num >= 0]\n",
    "    \n",
    "    if len(var_tmp1) > 0:\n",
    "        min_diff = min(var_tmp1)\n",
    "    \n",
    "        remain_days = df.duration[i] - min_diff # calculate the days left\n",
    "        start_day = eddy_time[0] - 366 + min_diff\n",
    "        start_str = datetime.date.fromordinal(int(start_day)).strftime('%Y-%m-%d')\n",
    "\n",
    "        sd_id = np.argwhere(eddy_time == (start_day+366))\n",
    "\n",
    "        if sd_id.shape[0] > 0 and start_str == '2010-01-01' and remain_days > 30:\n",
    "            eddy_30_id.append(i)\n",
    "        elif sd_id.shape[0] > 0 and start_str == '2006-04-01' and remain_days > 60:\n",
    "            eddy_60_id.append(i)            "
   ]
  },
  {
   "cell_type": "markdown",
   "id": "injured-sessions",
   "metadata": {},
   "source": [
    "- eddy info"
   ]
  },
  {
   "cell_type": "code",
   "execution_count": 11,
   "id": "enormous-momentum",
   "metadata": {
    "execution": {
     "iopub.execute_input": "2021-04-15T07:18:58.656538Z",
     "iopub.status.busy": "2021-04-15T07:18:58.656129Z",
     "iopub.status.idle": "2021-04-15T07:18:58.693183Z",
     "shell.execute_reply": "2021-04-15T07:18:58.691826Z",
     "shell.execute_reply.started": "2021-04-15T07:18:58.656466Z"
    }
   },
   "outputs": [
    {
     "data": {
      "text/plain": [
       "[1683, 1687, 1689, 1698, 1699, 1757]"
      ]
     },
     "execution_count": 11,
     "metadata": {},
     "output_type": "execute_result"
    }
   ],
   "source": [
    "eddy_30_id"
   ]
  },
  {
   "cell_type": "code",
   "execution_count": 12,
   "id": "persistent-burden",
   "metadata": {
    "execution": {
     "iopub.execute_input": "2021-04-15T07:18:58.695016Z",
     "iopub.status.busy": "2021-04-15T07:18:58.694694Z",
     "iopub.status.idle": "2021-04-15T07:18:58.729630Z",
     "shell.execute_reply": "2021-04-15T07:18:58.728038Z",
     "shell.execute_reply.started": "2021-04-15T07:18:58.694982Z"
    }
   },
   "outputs": [
    {
     "data": {
      "text/plain": [
       "[array([116.125,  20.125]),\n",
       " array([112.375,   9.875]),\n",
       " array([124.875,  18.875]),\n",
       " array([129.375,  20.625]),\n",
       " array([115.875,  18.375]),\n",
       " array([114.875,  13.625])]"
      ]
     },
     "execution_count": 12,
     "metadata": {},
     "output_type": "execute_result"
    }
   ],
   "source": [
    "[df.center_traj[tmpi][0] for tmpi in eddy_30_id]"
   ]
  },
  {
   "cell_type": "code",
   "execution_count": 13,
   "id": "purple-brush",
   "metadata": {
    "execution": {
     "iopub.execute_input": "2021-04-15T07:18:58.732889Z",
     "iopub.status.busy": "2021-04-15T07:18:58.732552Z",
     "iopub.status.idle": "2021-04-15T07:18:58.766286Z",
     "shell.execute_reply": "2021-04-15T07:18:58.764770Z",
     "shell.execute_reply.started": "2021-04-15T07:18:58.732857Z"
    }
   },
   "outputs": [
    {
     "data": {
      "text/plain": [
       "array([1683, 1687, 1699, 1757])"
      ]
     },
     "execution_count": 13,
     "metadata": {},
     "output_type": "execute_result"
    }
   ],
   "source": [
    "eddy_30_id = np.delete(eddy_30_id, [2, 3])\n",
    "eddy_30_id"
   ]
  },
  {
   "cell_type": "code",
   "execution_count": 14,
   "id": "intense-weekly",
   "metadata": {
    "execution": {
     "iopub.execute_input": "2021-04-15T07:18:58.768269Z",
     "iopub.status.busy": "2021-04-15T07:18:58.767916Z",
     "iopub.status.idle": "2021-04-15T07:18:58.800229Z",
     "shell.execute_reply": "2021-04-15T07:18:58.798264Z",
     "shell.execute_reply.started": "2021-04-15T07:18:58.768238Z"
    }
   },
   "outputs": [
    {
     "data": {
      "text/plain": [
       "[1314, 1317, 1321, 1335]"
      ]
     },
     "execution_count": 14,
     "metadata": {},
     "output_type": "execute_result"
    }
   ],
   "source": [
    "eddy_60_id"
   ]
  },
  {
   "cell_type": "code",
   "execution_count": 15,
   "id": "canadian-hotel",
   "metadata": {
    "execution": {
     "iopub.execute_input": "2021-04-15T07:18:58.802373Z",
     "iopub.status.busy": "2021-04-15T07:18:58.802033Z",
     "iopub.status.idle": "2021-04-15T07:18:58.831309Z",
     "shell.execute_reply": "2021-04-15T07:18:58.829761Z",
     "shell.execute_reply.started": "2021-04-15T07:18:58.802339Z"
    }
   },
   "outputs": [
    {
     "data": {
      "text/plain": [
       "[array([110.625,   9.625]),\n",
       " array([115.375,   6.125]),\n",
       " array([112.375,  17.625]),\n",
       " array([119.375,  15.625])]"
      ]
     },
     "execution_count": 15,
     "metadata": {},
     "output_type": "execute_result"
    }
   ],
   "source": [
    "[df.center_traj[tmpi][0] for tmpi in eddy_60_id]"
   ]
  },
  {
   "cell_type": "markdown",
   "id": "opponent-reality",
   "metadata": {},
   "source": [
    "#### Get the eddy mask"
   ]
  },
  {
   "cell_type": "code",
   "execution_count": 16,
   "id": "laden-credits",
   "metadata": {
    "execution": {
     "iopub.execute_input": "2021-04-15T07:19:07.551946Z",
     "iopub.status.busy": "2021-04-15T07:19:07.551578Z",
     "iopub.status.idle": "2021-04-15T07:19:11.654249Z",
     "shell.execute_reply": "2021-04-15T07:19:11.652877Z",
     "shell.execute_reply.started": "2021-04-15T07:19:07.551907Z"
    }
   },
   "outputs": [],
   "source": [
    "gcs = gcsfs.GCSFileSystem(requester_pays=True)\n",
    "\n",
    "x_left, x_right = 100, 132\n",
    "y_south, y_north = 0, 30\n",
    "dx = 32 * (x_right - x_left)\n",
    "dy = 32 * (y_north - y_south)\n",
    "\n",
    "start_str = '2010-01-01'\n",
    "lg_fn = 'gs://pangeo-rclv-eddies/float_trajectories/' + start_str + '.zarr' # lagrangian particle file name\n",
    "ds = xr.open_zarr(gcs.get_mapper(lg_fn))\n",
    "ds_new = ds.sel(x0=slice(x_left, x_right), y0=slice(y_south, y_north))\n",
    "\n",
    "# define vars to input data\n",
    "mask_array_30 = np.zeros((4, 960, 1024))\n",
    "id_array_30 = np.zeros((4, 2))\n",
    "\n",
    "kk = 0\n",
    "\n",
    "for i in eddy_30_id:\n",
    "            \n",
    "    eddy_time = df.time[i] # lifetime of ssh eddy\n",
    "    \n",
    "    date0_str = datetime.date.fromordinal(int(eddy_time[0]-366)).strftime('%Y-%m-%d')\n",
    "    \n",
    "    duration = df.duration[i]\n",
    "    \n",
    "    date_diff = (date_st - eddy_time[0] + 366).tolist()    # check the number!!!!!!\n",
    "    \n",
    "    var_tmp1 = [num for num in date_diff if num >= 0]\n",
    "    \n",
    "    if len(var_tmp1) > 0:\n",
    "        min_diff = min(var_tmp1)\n",
    "\n",
    "        remain_days = df.duration[i] - min_diff # calculate the days left\n",
    "\n",
    "        start_day = eddy_time[0] - 366 + min_diff\n",
    "        start_str = datetime.date.fromordinal(int(start_day)).strftime('%Y-%m-%d')\n",
    "\n",
    "        sd_id = np.argwhere(eddy_time == (start_day+366))\n",
    "        sd_id2 = np.argwhere(eddy_time == (start_day+366+30))\n",
    "        \n",
    "        id_array_30[kk, 0] = sd_id\n",
    "        id_array_30[kk, 1] = sd_id2\n",
    "        \n",
    "        boundary = df.boundary[i]\n",
    "            \n",
    "        var_tmp2 = boundary[sd_id][0, 0]\n",
    "        \n",
    "        num2 = var_tmp2[1, :] / (y_north - y_south) * dy  # position of y\n",
    "        num1 = (var_tmp2[0, :] - 100) / (x_right - x_left) * dx # position of x\n",
    "\n",
    "        contour0 = np.zeros((var_tmp2.shape[1], 2))\n",
    "        contour0[:, 1] = num1\n",
    "        contour0[:, 0] = num2\n",
    "\n",
    "        labels = rclv.label_points_in_contours(ds_new.x[0, :, :].shape, [contour0])\n",
    "\n",
    "        mask1 = deepcopy(labels).astype('float')\n",
    "        mask1[mask1 == 0] = np.nan\n",
    "        mask_array_30[kk, :, :] = mask1\n",
    "\n",
    "        kk = kk + 1"
   ]
  },
  {
   "cell_type": "code",
   "execution_count": 17,
   "id": "thrown-qualification",
   "metadata": {
    "execution": {
     "iopub.execute_input": "2021-04-15T07:19:11.656623Z",
     "iopub.status.busy": "2021-04-15T07:19:11.656255Z",
     "iopub.status.idle": "2021-04-15T07:19:15.601515Z",
     "shell.execute_reply": "2021-04-15T07:19:15.600277Z",
     "shell.execute_reply.started": "2021-04-15T07:19:11.656592Z"
    }
   },
   "outputs": [],
   "source": [
    "start_str = '2006-04-01'\n",
    "lg_fn = 'gs://pangeo-rclv-eddies/float_trajectories/' + start_str + '.zarr' # lagrangian particle file name\n",
    "ds = xr.open_zarr(gcs.get_mapper(lg_fn))\n",
    "ds_new2 = ds.sel(x0=slice(x_left, x_right), y0=slice(y_south, y_north))\n",
    "\n",
    "# define vars to input data\n",
    "mask_array_60 = np.zeros((4, 960, 1024))\n",
    "id_array_60 = np.zeros((4, 2))\n",
    "\n",
    "kk = 0\n",
    "\n",
    "for i in eddy_60_id:\n",
    "            \n",
    "    eddy_time = df.time[i] # lifetime of ssh eddy\n",
    "    \n",
    "    date0_str = datetime.date.fromordinal(int(eddy_time[0]-366)).strftime('%Y-%m-%d')\n",
    "    \n",
    "    duration = df.duration[i]\n",
    "    \n",
    "    date_diff = (date_st - eddy_time[0] + 366).tolist()    # check the number!!!!!!\n",
    "    \n",
    "    var_tmp1 = [num for num in date_diff if num >= 0]\n",
    "    \n",
    "    if len(var_tmp1) > 0:\n",
    "        min_diff = min(var_tmp1)\n",
    "\n",
    "        remain_days = df.duration[i] - min_diff # calculate the days left\n",
    "\n",
    "        start_day = eddy_time[0] - 366 + min_diff\n",
    "        start_str = datetime.date.fromordinal(int(start_day)).strftime('%Y-%m-%d')\n",
    "\n",
    "        sd_id = np.argwhere(eddy_time == (start_day+366))\n",
    "        sd_id2 = np.argwhere(eddy_time == (start_day+366+60))\n",
    "        \n",
    "        id_array_60[kk, 0] = sd_id\n",
    "        id_array_60[kk, 1] = sd_id2\n",
    "        \n",
    "        boundary = df.boundary[i]\n",
    "            \n",
    "        var_tmp2 = boundary[sd_id][0, 0]\n",
    "        \n",
    "        num2 = var_tmp2[1, :] / (y_north - y_south) * dy  # position of y\n",
    "        num1 = (var_tmp2[0, :] - 100) / (x_right - x_left) * dx # position of x\n",
    "\n",
    "        contour0 = np.zeros((var_tmp2.shape[1], 2))\n",
    "        contour0[:, 1] = num1\n",
    "        contour0[:, 0] = num2\n",
    "\n",
    "        labels = rclv.label_points_in_contours(ds_new2.x[0, :, :].shape, [contour0])\n",
    "\n",
    "        mask1 = deepcopy(labels).astype('float')\n",
    "        mask1[mask1 == 0] = np.nan\n",
    "        mask_array_60[kk, :, :] = mask1\n",
    "\n",
    "        kk = kk + 1"
   ]
  },
  {
   "cell_type": "code",
   "execution_count": null,
   "id": "stainless-opportunity",
   "metadata": {},
   "outputs": [],
   "source": []
  },
  {
   "cell_type": "code",
   "execution_count": 68,
   "id": "mounted-disclosure",
   "metadata": {
    "execution": {
     "iopub.execute_input": "2021-04-15T06:28:34.451521Z",
     "iopub.status.busy": "2021-04-15T06:28:34.450930Z",
     "iopub.status.idle": "2021-04-15T06:28:34.626178Z",
     "shell.execute_reply": "2021-04-15T06:28:34.624801Z",
     "shell.execute_reply.started": "2021-04-15T06:28:34.451459Z"
    }
   },
   "outputs": [
    {
     "data": {
      "image/png": "[encoded data removed]",
      "text/plain": [
       "<Figure size 432x288 with 1 Axes>"
      ]
     },
     "metadata": {
      "needs_background": "light"
     },
     "output_type": "display_data"
    }
   ],
   "source": [
    "color = ['darkred', 'blue', 'green', 'gold']\n",
    "for i in np.arange(4):\n",
    "    \n",
    "    id1, id2 = id_array_30[i].astype('int')\n",
    "    traj = df.center_traj[eddy_30_id[i]][id1:id2+1, :]\n",
    "    boun = df.boundary[eddy_30_id[i]]\n",
    "    plt.plot(traj[:, 0], traj[:, 1], color='indigo')\n",
    "    plt.plot(boun[id1][0, :], boun[id1][1, :], color=color[i])\n",
    "    plt.plot(boun[id2][0, :], boun[id2][1, :], color=color[i])"
   ]
  },
  {
   "cell_type": "code",
   "execution_count": null,
   "id": "falling-liberty",
   "metadata": {},
   "outputs": [],
   "source": []
  },
  {
   "cell_type": "code",
   "execution_count": null,
   "id": "artistic-things",
   "metadata": {
    "execution": {
     "iopub.execute_input": "2021-04-15T07:32:41.316404Z",
     "iopub.status.busy": "2021-04-15T07:32:41.315933Z"
    }
   },
   "outputs": [],
   "source": [
    "lev1 = np.arange(-1, 1.01, 0.02)\n",
    "\n",
    "fig = plt.figure(figsize=(13, 16))\n",
    "\n",
    "map_proj = ccrs.PlateCarree()\n",
    "\n",
    "ax1 = plt.subplot(2, 2, 1, projection=map_proj)\n",
    "ax1.add_feature(land_50m)\n",
    "ax1.set_extent([99.9, 122, 2, 25.1], crs=map_proj)\n",
    "\n",
    "ds_aviso.sel(longitude=slice(100, 130), latitude=slice(0, 28), time='2010-01-01').sla.plot.contour(levels=lev1, colors='k', linewidths=0.5)\n",
    "color = ['orange', 'blue', 'darkgreen', 'maroon']\n",
    "color2 = ['yellow', 'dodgerblue', 'springgreen', 'red']\n",
    "label = ['Eddy A', 'Eddy B', 'Eddy C', 'Eddy D']\n",
    "for i in np.arange(4):\n",
    "    \n",
    "    px = ds_new.x[0, :, :] * mask_array_30[i, :, :]\n",
    "    py = ds_new.y[0, :, :] * mask_array_30[i, :, :]\n",
    "    \n",
    "    plt.scatter(px, py, s=3, color=color2[i])\n",
    "    \n",
    "    id1, id2 = id_array_30[i].astype('int')\n",
    "    traj = df.center_traj[eddy_30_id[i]][id1:id2+1, :]\n",
    "    boun = df.boundary[eddy_30_id[i]]\n",
    "    plt.plot(boun[id1][0, :], boun[id1][1, :], color=color[i], linewidth=2, label=label[i])\n",
    "    plt.plot(traj[:, 0], traj[:, 1], color='purple', linewidth=2)\n",
    "\n",
    "plt.legend(loc=2)\n",
    "\n",
    "tick_proj = ccrs.PlateCarree()\n",
    "xvalues = np.arange(100, 125, 5)\n",
    "yvalues = np.arange(0, 26, 5)\n",
    "\n",
    "ax1.set_xticks(xvalues, crs=tick_proj)\n",
    "ax1.set_yticks(yvalues, crs=tick_proj)\n",
    "\n",
    "ax1.set_xticklabels(xvalues, fontsize=14)\n",
    "ax1.set_yticklabels(yvalues, fontsize=14)\n",
    "\n",
    "ax1.xaxis.set_major_formatter(LongitudeFormatter())\n",
    "ax1.yaxis.set_major_formatter(LongitudeFormatter())\n",
    "\n",
    "plt.xlabel('')\n",
    "plt.ylabel('')\n",
    "plt.xlim(105, 122)\n",
    "plt.ylim(3, 23)\n",
    "plt.title('2010-01-01', size=16)\n",
    "\n",
    "plt.text(105, 23.5, '(a)', size=18)\n",
    "\n",
    "# -----------------------------\n",
    "\n",
    "ax2 = plt.subplot(2, 2, 2, projection=map_proj)\n",
    "\n",
    "ax2.add_feature(land_50m)\n",
    "ax2.set_extent([99.9, 122, 2, 25.1], crs=map_proj)\n",
    "\n",
    "ds_aviso.sel(longitude=slice(100, 130), latitude=slice(0, 28), time='2010-01-31').sla.plot.contour(levels=lev1, colors='k', linewidths=0.5)\n",
    "for i in np.arange(4):\n",
    "    px = ds_new.x[3, :, :] * mask_array_30[i, :, :]\n",
    "    py = ds_new.y[3, :, :] * mask_array_30[i, :, :]\n",
    "    \n",
    "    plt.scatter(px, py, s=3, color=color2[i])\n",
    "    \n",
    "    id1, id2 = id_array_30[i].astype('int')\n",
    "    traj = df.center_traj[eddy_30_id[i]][id1:id2+1, :]\n",
    "    boun = df.boundary[eddy_30_id[i]]\n",
    "    #plt.plot(boun[id1][0, :], boun[id1][1, :], color=color[i])\n",
    "    plt.plot(boun[id2][0, :], boun[id2][1, :], color=color[i], linewidth=2)\n",
    "    plt.plot(traj[:, 0], traj[:, 1], color='purple', linewidth=2)\n",
    "\n",
    "\n",
    "tick_proj = ccrs.PlateCarree()\n",
    "xvalues = np.arange(100, 125, 5)\n",
    "yvalues = np.arange(0, 26, 5)\n",
    "\n",
    "ax2.set_xticks(xvalues, crs=tick_proj)\n",
    "ax2.set_yticks(yvalues, crs=tick_proj)\n",
    "\n",
    "ax2.set_xticklabels(xvalues, fontsize=14)\n",
    "ax2.set_yticklabels(yvalues, fontsize=14)\n",
    "\n",
    "ax2.xaxis.set_major_formatter(LongitudeFormatter())\n",
    "ax2.yaxis.set_major_formatter(LongitudeFormatter())\n",
    "\n",
    "plt.xlabel('')\n",
    "plt.ylabel('')\n",
    "plt.xlim(105, 122)\n",
    "plt.ylim(3, 23)\n",
    "plt.title('2010-01-31', size=16)\n",
    "\n",
    "plt.text(105, 23.5, '(b)', size=18)\n",
    "\n",
    "# -----------------------------\n",
    "label2 = ['Eddy E', 'Eddy F', 'Eddy G', 'Eddy H']\n",
    "ax3 = plt.subplot(2, 2, 3, projection=map_proj)\n",
    "\n",
    "ax3.add_feature(land_50m)\n",
    "ax3.set_extent([99.9, 122, 2, 25.1], crs=map_proj)\n",
    "\n",
    "ds_aviso.sel(longitude=slice(100, 130), latitude=slice(0, 28), time='2006-04-01').sla.plot.contour(levels=lev1, colors='k', linewidths=0.5)\n",
    "for i in np.arange(4):\n",
    "    px = ds_new2.x[0, :, :] * mask_array_60[i, :, :]\n",
    "    py = ds_new2.y[0, :, :] * mask_array_60[i, :, :]\n",
    "    \n",
    "    plt.scatter(px, py, s=3, color=color2[i])\n",
    "    \n",
    "    id1, id2 = id_array_60[i].astype('int')\n",
    "    traj = df.center_traj[eddy_60_id[i]][id1:id2+1, :]\n",
    "    boun = df.boundary[eddy_60_id[i]]\n",
    "    plt.plot(boun[id1][0, :], boun[id1][1, :], color=color[i], label=label2[i])\n",
    "    #plt.plot(boun[id2][0, :], boun[id2][1, :], color=color[i], linewidth=2)\n",
    "    plt.plot(traj[:, 0], traj[:, 1], color='purple', linewidth=2)\n",
    "\n",
    "plt.legend(loc=2)\n",
    "tick_proj = ccrs.PlateCarree()\n",
    "xvalues = np.arange(100, 125, 5)\n",
    "yvalues = np.arange(0, 26, 5)\n",
    "\n",
    "ax3.set_xticks(xvalues, crs=tick_proj)\n",
    "ax3.set_yticks(yvalues, crs=tick_proj)\n",
    "\n",
    "ax3.set_xticklabels(xvalues, fontsize=14)\n",
    "ax3.set_yticklabels(yvalues, fontsize=14)\n",
    "\n",
    "ax3.xaxis.set_major_formatter(LongitudeFormatter())\n",
    "ax3.yaxis.set_major_formatter(LongitudeFormatter())\n",
    "\n",
    "plt.xlabel('')\n",
    "plt.ylabel('')\n",
    "plt.xlim(105, 122)\n",
    "plt.ylim(3, 23)\n",
    "plt.title('2006-04-01', size=16)\n",
    "\n",
    "plt.text(105, 23.5, '(c)', size=18)\n",
    "\n",
    "# -----------------------------\n",
    "\n",
    "ax4 = plt.subplot(2, 2, 4, projection=map_proj)\n",
    "\n",
    "ax4.add_feature(land_50m)\n",
    "ax4.set_extent([99.9, 122, 2, 25.1], crs=map_proj)\n",
    "\n",
    "ds_aviso.sel(longitude=slice(100, 130), latitude=slice(0, 28), time='2006-05-31').sla.plot.contour(levels=lev1, colors='k', linewidths=0.5)\n",
    "for i in np.arange(4):\n",
    "    px = ds_new2.x[6, :, :] * mask_array_60[i, :, :]\n",
    "    py = ds_new2.y[6, :, :] * mask_array_60[i, :, :]\n",
    "    \n",
    "    plt.scatter(px, py, s=3, color=color2[i])\n",
    "    \n",
    "    id1, id2 = id_array_60[i].astype('int')\n",
    "    traj = df.center_traj[eddy_60_id[i]][id1:id2+1, :]\n",
    "    boun = df.boundary[eddy_60_id[i]]\n",
    "    #plt.plot(boun[id1][0, :], boun[id1][1, :], color=color[i])\n",
    "    plt.plot(boun[id2][0, :], boun[id2][1, :], color=color[i], linewidth=2)\n",
    "    plt.plot(traj[:, 0], traj[:, 1], color='purple', linewidth=2)\n",
    "\n",
    "\n",
    "tick_proj = ccrs.PlateCarree()\n",
    "xvalues = np.arange(100, 125, 5)\n",
    "yvalues = np.arange(0, 26, 5)\n",
    "\n",
    "ax4.set_xticks(xvalues, crs=tick_proj)\n",
    "ax4.set_yticks(yvalues, crs=tick_proj)\n",
    "\n",
    "ax4.set_xticklabels(xvalues, fontsize=14)\n",
    "ax4.set_yticklabels(yvalues, fontsize=14)\n",
    "\n",
    "ax4.xaxis.set_major_formatter(LongitudeFormatter())\n",
    "ax4.yaxis.set_major_formatter(LongitudeFormatter())\n",
    "\n",
    "plt.xlabel('')\n",
    "plt.ylabel('')\n",
    "plt.xlim(105, 122)\n",
    "plt.ylim(3, 23)\n",
    "plt.title('2006-05-31', size=16)\n",
    "\n",
    "plt.text(105, 23.5, '(d)', size=18)\n",
    "\n",
    "plt.savefig('./figs/Figure_01.png', dpi=100)"
   ]
  },
  {
   "cell_type": "code",
   "execution_count": null,
   "id": "automated-friend",
   "metadata": {},
   "outputs": [],
   "source": []
  },
  {
   "cell_type": "code",
   "execution_count": null,
   "id": "offshore-pioneer",
   "metadata": {},
   "outputs": [],
   "source": []
  },
  {
   "cell_type": "code",
   "execution_count": null,
   "id": "equivalent-culture",
   "metadata": {},
   "outputs": [],
   "source": []
  },
  {
   "cell_type": "code",
   "execution_count": null,
   "id": "peaceful-jordan",
   "metadata": {},
   "outputs": [],
   "source": []
  }
 ],
 "metadata": {
  "kernelspec": {
   "display_name": "Python 3",
   "language": "python",
   "name": "python3"
  },
  "language_info": {
   "codemirror_mode": {
    "name": "ipython",
    "version": 3
   },
   "file_extension": ".py",
   "mimetype": "text/x-python",
   "name": "python",
   "nbconvert_exporter": "python",
   "pygments_lexer": "ipython3",
   "version": "3.8.6"
  }
 },
 "nbformat": 4,
 "nbformat_minor": 5
}
