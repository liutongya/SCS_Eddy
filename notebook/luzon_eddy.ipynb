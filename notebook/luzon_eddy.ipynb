{
 "cells": [
  {
   "cell_type": "code",
   "execution_count": 2,
   "id": "matched-puppy",
   "metadata": {
    "execution": {
     "iopub.execute_input": "2021-06-17T12:31:14.032988Z",
     "iopub.status.busy": "2021-06-17T12:31:14.032596Z",
     "iopub.status.idle": "2021-06-17T12:31:17.279203Z",
     "shell.execute_reply": "2021-06-17T12:31:17.277992Z",
     "shell.execute_reply.started": "2021-06-17T12:31:14.032957Z"
    }
   },
   "outputs": [],
   "source": [
    "from intake import open_catalog\n",
    "import datetime\n",
    "import numpy as np\n",
    "import pandas as pd\n",
    "import scipy.io\n",
    "from scipy import interpolate\n",
    "import gsw\n",
    "import gcsfs\n",
    "import xarray as xr\n",
    "import rclv\n",
    "import os\n",
    "from copy import deepcopy\n",
    "from skimage import measure\n",
    "from matplotlib import pyplot as plt\n",
    "%matplotlib inline"
   ]
  },
  {
   "cell_type": "code",
   "execution_count": 8,
   "id": "secondary-college",
   "metadata": {
    "execution": {
     "iopub.execute_input": "2021-06-17T12:45:24.673892Z",
     "iopub.status.busy": "2021-06-17T12:45:24.673544Z",
     "iopub.status.idle": "2021-06-17T12:45:24.699821Z",
     "shell.execute_reply": "2021-06-17T12:45:24.698829Z",
     "shell.execute_reply.started": "2021-06-17T12:45:24.673862Z"
    }
   },
   "outputs": [
    {
     "data": {
      "text/html": [
       "<div>\n",
       "<style scoped>\n",
       "    .dataframe tbody tr th:only-of-type {\n",
       "        vertical-align: middle;\n",
       "    }\n",
       "\n",
       "    .dataframe tbody tr th {\n",
       "        vertical-align: top;\n",
       "    }\n",
       "\n",
       "    .dataframe thead th {\n",
       "        text-align: right;\n",
       "    }\n",
       "</style>\n",
       "<table border=\"1\" class=\"dataframe\">\n",
       "  <thead>\n",
       "    <tr style=\"text-align: right;\">\n",
       "      <th></th>\n",
       "      <th>0</th>\n",
       "      <th>1</th>\n",
       "      <th>2</th>\n",
       "      <th>3</th>\n",
       "      <th>4</th>\n",
       "      <th>5</th>\n",
       "      <th>6</th>\n",
       "      <th>7</th>\n",
       "      <th>8</th>\n",
       "      <th>9</th>\n",
       "      <th>10</th>\n",
       "      <th>11</th>\n",
       "      <th>12</th>\n",
       "      <th>13</th>\n",
       "    </tr>\n",
       "  </thead>\n",
       "  <tbody>\n",
       "    <tr>\n",
       "      <th>0</th>\n",
       "      <td>1.0</td>\n",
       "      <td>45.0</td>\n",
       "      <td>4.944328e+10</td>\n",
       "      <td>0.083280</td>\n",
       "      <td>-0.650595</td>\n",
       "      <td>-0.000009</td>\n",
       "      <td>80266.753659</td>\n",
       "      <td>-0.087273</td>\n",
       "      <td>0.035749</td>\n",
       "      <td>-1.0</td>\n",
       "      <td>0.357019</td>\n",
       "      <td>0.050497</td>\n",
       "      <td>123.875</td>\n",
       "      <td>20.125</td>\n",
       "    </tr>\n",
       "    <tr>\n",
       "      <th>1</th>\n",
       "      <td>2.0</td>\n",
       "      <td>31.0</td>\n",
       "      <td>1.041958e+10</td>\n",
       "      <td>0.009457</td>\n",
       "      <td>0.230652</td>\n",
       "      <td>0.000003</td>\n",
       "      <td>65940.386649</td>\n",
       "      <td>-0.050919</td>\n",
       "      <td>-0.041515</td>\n",
       "      <td>1.0</td>\n",
       "      <td>0.101414</td>\n",
       "      <td>0.003837</td>\n",
       "      <td>115.875</td>\n",
       "      <td>11.125</td>\n",
       "    </tr>\n",
       "    <tr>\n",
       "      <th>2</th>\n",
       "      <td>3.0</td>\n",
       "      <td>48.0</td>\n",
       "      <td>4.940120e+09</td>\n",
       "      <td>0.009673</td>\n",
       "      <td>0.165413</td>\n",
       "      <td>0.000006</td>\n",
       "      <td>52602.179429</td>\n",
       "      <td>-0.019697</td>\n",
       "      <td>-0.006703</td>\n",
       "      <td>1.0</td>\n",
       "      <td>0.145094</td>\n",
       "      <td>0.006766</td>\n",
       "      <td>113.375</td>\n",
       "      <td>11.625</td>\n",
       "    </tr>\n",
       "    <tr>\n",
       "      <th>3</th>\n",
       "      <td>4.0</td>\n",
       "      <td>50.0</td>\n",
       "      <td>2.289068e+10</td>\n",
       "      <td>0.020630</td>\n",
       "      <td>-0.200860</td>\n",
       "      <td>-0.000004</td>\n",
       "      <td>85517.729432</td>\n",
       "      <td>-0.044308</td>\n",
       "      <td>-0.019305</td>\n",
       "      <td>-1.0</td>\n",
       "      <td>0.173021</td>\n",
       "      <td>0.010500</td>\n",
       "      <td>114.375</td>\n",
       "      <td>10.375</td>\n",
       "    </tr>\n",
       "    <tr>\n",
       "      <th>4</th>\n",
       "      <td>5.0</td>\n",
       "      <td>43.0</td>\n",
       "      <td>1.113819e+10</td>\n",
       "      <td>0.023152</td>\n",
       "      <td>0.269953</td>\n",
       "      <td>0.000005</td>\n",
       "      <td>59882.550288</td>\n",
       "      <td>-0.161588</td>\n",
       "      <td>-0.052377</td>\n",
       "      <td>1.0</td>\n",
       "      <td>0.151511</td>\n",
       "      <td>0.008405</td>\n",
       "      <td>118.125</td>\n",
       "      <td>20.125</td>\n",
       "    </tr>\n",
       "  </tbody>\n",
       "</table>\n",
       "</div>"
      ],
      "text/plain": [
       "    0     1             2         3         4         5             6   \\\n",
       "0  1.0  45.0  4.944328e+10  0.083280 -0.650595 -0.000009  80266.753659   \n",
       "1  2.0  31.0  1.041958e+10  0.009457  0.230652  0.000003  65940.386649   \n",
       "2  3.0  48.0  4.940120e+09  0.009673  0.165413  0.000006  52602.179429   \n",
       "3  4.0  50.0  2.289068e+10  0.020630 -0.200860 -0.000004  85517.729432   \n",
       "4  5.0  43.0  1.113819e+10  0.023152  0.269953  0.000005  59882.550288   \n",
       "\n",
       "         7         8    9         10        11       12      13  \n",
       "0 -0.087273  0.035749 -1.0  0.357019  0.050497  123.875  20.125  \n",
       "1 -0.050919 -0.041515  1.0  0.101414  0.003837  115.875  11.125  \n",
       "2 -0.019697 -0.006703  1.0  0.145094  0.006766  113.375  11.625  \n",
       "3 -0.044308 -0.019305 -1.0  0.173021  0.010500  114.375  10.375  \n",
       "4 -0.161588 -0.052377  1.0  0.151511  0.008405  118.125  20.125  "
      ]
     },
     "execution_count": 8,
     "metadata": {},
     "output_type": "execute_result"
    }
   ],
   "source": [
    "# load ssh eddy information\n",
    "df = pd.read_pickle('eddy_data.pkl')\n",
    "df.head()"
   ]
  },
  {
   "cell_type": "code",
   "execution_count": 9,
   "id": "infectious-spyware",
   "metadata": {
    "execution": {
     "iopub.execute_input": "2021-06-17T12:45:37.188308Z",
     "iopub.status.busy": "2021-06-17T12:45:37.187977Z",
     "iopub.status.idle": "2021-06-17T12:45:37.195907Z",
     "shell.execute_reply": "2021-06-17T12:45:37.194678Z",
     "shell.execute_reply.started": "2021-06-17T12:45:37.188280Z"
    }
   },
   "outputs": [],
   "source": [
    "dura = df.loc[:, 1].values\n",
    "rad = df.loc[:, 6].values\n",
    "\n",
    "amp = df.loc[:, 3].values\n",
    "damp = df.loc[:, 4].values\n",
    "\n",
    "cyc = df.loc[:, 9].values\n",
    "vort = df.loc[:, 5].values\n",
    "\n",
    "spx = df.loc[:, 7].values\n",
    "spy = df.loc[:, 8].values\n",
    "\n",
    "edsp = df.loc[:, 10].values\n",
    "ke = df.loc[:, 10].values\n",
    "\n",
    "lon = df.loc[:, 12].values\n",
    "lat = df.loc[:, 13].values"
   ]
  },
  {
   "cell_type": "code",
   "execution_count": 10,
   "id": "natural-stake",
   "metadata": {
    "execution": {
     "iopub.execute_input": "2021-06-17T12:45:48.887497Z",
     "iopub.status.busy": "2021-06-17T12:45:48.887160Z",
     "iopub.status.idle": "2021-06-17T12:45:48.894239Z",
     "shell.execute_reply": "2021-06-17T12:45:48.893222Z",
     "shell.execute_reply.started": "2021-06-17T12:45:48.887469Z"
    }
   },
   "outputs": [],
   "source": [
    "leak_data = np.zeros((2394, 22))\n",
    "leak_data[:, :] = np.NaN\n",
    "intru_data = np.zeros((2394, 22))\n",
    "intru_data[:, :] = np.NaN\n",
    "\n",
    "leak_norm = np.zeros((2394, 30))\n",
    "leak_norm[:, :] = np.NaN\n",
    "intru_norm = np.zeros((2394, 30))\n",
    "intru_norm[:, :] = np.NaN\n",
    "\n",
    "leak_array = np.zeros((2394, 1))\n",
    "leak_array[:] = np.NaN"
   ]
  },
  {
   "cell_type": "code",
   "execution_count": 11,
   "id": "important-uzbekistan",
   "metadata": {
    "execution": {
     "iopub.execute_input": "2021-06-17T12:46:37.359480Z",
     "iopub.status.busy": "2021-06-17T12:46:37.359060Z",
     "iopub.status.idle": "2021-06-17T12:46:37.365320Z",
     "shell.execute_reply": "2021-06-17T12:46:37.364250Z",
     "shell.execute_reply.started": "2021-06-17T12:46:37.359440Z"
    }
   },
   "outputs": [],
   "source": [
    "df_leak = pd.DataFrame(leak_data)\n",
    "df_intru = pd.DataFrame(intru_data)\n",
    "\n",
    "df_leak_norm = pd.DataFrame(leak_norm)\n",
    "df_intru_norm = pd.DataFrame(intru_norm)"
   ]
  },
  {
   "cell_type": "code",
   "execution_count": 12,
   "id": "increasing-contract",
   "metadata": {
    "execution": {
     "iopub.execute_input": "2021-06-17T12:46:48.087647Z",
     "iopub.status.busy": "2021-06-17T12:46:48.087317Z",
     "iopub.status.idle": "2021-06-17T12:46:55.536338Z",
     "shell.execute_reply": "2021-06-17T12:46:55.535363Z",
     "shell.execute_reply.started": "2021-06-17T12:46:48.087621Z"
    }
   },
   "outputs": [],
   "source": [
    "cal_var = np.load('cal_var.npy')\n",
    "eddy_norm_t = np.linspace(0, 1, 30)\n",
    "\n",
    "for i in np.arange(2394):\n",
    "    fn1 = './pkl/leak_data_' + str(i).zfill(4) + '.pkl'\n",
    "    fn2 = './pkl/intru_data_' + str(i).zfill(4) + '.pkl'\n",
    "    if os.path.exists(fn1):\n",
    "        df_tmp1 = pd.read_pickle(fn1)\n",
    "        df_tmp2 = pd.read_pickle(fn2)\n",
    "        df_leak.iloc[i, :] = df_tmp1.iloc[0]\n",
    "        df_intru.iloc[i, :] = df_tmp2.iloc[0]\n",
    "        \n",
    "        idtmp = int(cal_var[i, 2]) + 4\n",
    "        \n",
    "        var1 = (df_tmp1.iloc[0, 3:idtmp] / df_tmp1.iloc[0, 3]).to_numpy()\n",
    "        var_t1 = (cal_var[i, 0] - cal_var[i, 1]) / cal_var[i, 0]\n",
    "        var_t2 = (cal_var[i, 0] - cal_var[i, 1] + cal_var[i, 2] * 10) / cal_var[i, 0]\n",
    "        var_tt = np.linspace(var_t1, var_t2, var1.shape[0])\n",
    "        \n",
    "        if var_tt.shape[0] > 1:\n",
    "            fun1 = interpolate.interp1d(var_tt, var1, bounds_error=False)\n",
    "            df_leak_norm.loc[i, :] = fun1(eddy_norm_t);\n",
    "            \n",
    "            tmp = df_leak_norm.loc[i, :].values\n",
    "            tmp = tmp[~np.isnan(tmp)]\n",
    "            \n",
    "            if tmp.shape[0] > 1:\n",
    "                leak_array[i] = tmp[-1]\n",
    "        #var2 = cal\n",
    "        #time_var1 = cal_var[i]"
   ]
  },
  {
   "cell_type": "code",
   "execution_count": 19,
   "id": "designing-division",
   "metadata": {
    "execution": {
     "iopub.execute_input": "2021-06-17T12:52:07.832177Z",
     "iopub.status.busy": "2021-06-17T12:52:07.831847Z",
     "iopub.status.idle": "2021-06-17T12:52:07.840956Z",
     "shell.execute_reply": "2021-06-17T12:52:07.839734Z",
     "shell.execute_reply.started": "2021-06-17T12:52:07.832148Z"
    }
   },
   "outputs": [
    {
     "data": {
      "text/plain": [
       "(392,)"
      ]
     },
     "execution_count": 19,
     "metadata": {},
     "output_type": "execute_result"
    }
   ],
   "source": [
    "#total num \n",
    "eddyid1 = np.where((lon<122) & (lon>116) & (lat<23) & (lat>18) & (leak_array[:,0]>0))[0]\n",
    "eddyid1.shape"
   ]
  },
  {
   "cell_type": "code",
   "execution_count": 27,
   "id": "delayed-fight",
   "metadata": {
    "execution": {
     "iopub.execute_input": "2021-06-17T12:53:26.928302Z",
     "iopub.status.busy": "2021-06-17T12:53:26.927965Z",
     "iopub.status.idle": "2021-06-17T12:53:26.935736Z",
     "shell.execute_reply": "2021-06-17T12:53:26.934715Z",
     "shell.execute_reply.started": "2021-06-17T12:53:26.928274Z"
    }
   },
   "outputs": [
    {
     "data": {
      "text/plain": [
       "(240,)"
      ]
     },
     "execution_count": 27,
     "metadata": {},
     "output_type": "execute_result"
    }
   ],
   "source": [
    "#total num \n",
    "eddyid1 = np.where((lon<115) & (lon>105) & (lat<15) & (lat>10) & (leak_array[:,0]>0))[0]\n",
    "eddyid1.shape"
   ]
  },
  {
   "cell_type": "code",
   "execution_count": null,
   "id": "hidden-thermal",
   "metadata": {},
   "outputs": [],
   "source": []
  },
  {
   "cell_type": "code",
   "execution_count": 28,
   "id": "painful-collins",
   "metadata": {
    "execution": {
     "iopub.execute_input": "2021-06-17T12:53:30.745790Z",
     "iopub.status.busy": "2021-06-17T12:53:30.745392Z",
     "iopub.status.idle": "2021-06-17T12:53:30.826102Z",
     "shell.execute_reply": "2021-06-17T12:53:30.824679Z",
     "shell.execute_reply.started": "2021-06-17T12:53:30.745761Z"
    }
   },
   "outputs": [],
   "source": [
    "leak_var1 = np.zeros((2394, 50, 50))\n",
    "leak_var1[:, :] = np.nan\n",
    "leak_var2 = np.zeros((2394, 50, 50))\n",
    "leak_var2[:, :] = np.nan"
   ]
  },
  {
   "cell_type": "code",
   "execution_count": 29,
   "id": "demographic-connection",
   "metadata": {
    "execution": {
     "iopub.execute_input": "2021-06-17T12:53:31.080861Z",
     "iopub.status.busy": "2021-06-17T12:53:31.080507Z",
     "iopub.status.idle": "2021-06-17T12:53:33.091827Z",
     "shell.execute_reply": "2021-06-17T12:53:33.090736Z",
     "shell.execute_reply.started": "2021-06-17T12:53:31.080832Z"
    }
   },
   "outputs": [],
   "source": [
    "for i in np.arange(2394):\n",
    "    fn1 = './array_data/leak_' + str(i).zfill(4) + '.npy'\n",
    "    if os.path.exists(fn1):\n",
    "        \n",
    "        var_data = np.load(fn1)\n",
    "        leak_var1[i, :, :] = var_data[0, :, :] / var_data[0, :, :].sum()\n",
    "        leak_var2[i, :, :] = var_data[1, :, :] / var_data[0, :, :].sum()\n",
    "\n",
    "#id = df[df.cyc<0].index.tolist()\n",
    "leak_day0 = np.nanmean(leak_var1[eddyid1, :, :], axis=0)\n",
    "leak_day1 = np.nanmean(leak_var2[eddyid1, :, :], axis=0)"
   ]
  },
  {
   "cell_type": "code",
   "execution_count": 30,
   "id": "golden-newark",
   "metadata": {
    "execution": {
     "iopub.execute_input": "2021-06-17T12:53:33.093532Z",
     "iopub.status.busy": "2021-06-17T12:53:33.093233Z",
     "iopub.status.idle": "2021-06-17T12:53:33.377018Z",
     "shell.execute_reply": "2021-06-17T12:53:33.375963Z",
     "shell.execute_reply.started": "2021-06-17T12:53:33.093505Z"
    }
   },
   "outputs": [
    {
     "name": "stderr",
     "output_type": "stream",
     "text": [
      "<ipython-input-30-dfe4e9a03319>:8: RuntimeWarning: divide by zero encountered in log10\n",
      "  plt.contourf(xx, yy, np.log10(100*leak_day0), levels=np.arange(-3, 0.01, 0.2), vmin=-3, vmax=0, cmap='Spectral_r', extend='max')\n",
      "<ipython-input-30-dfe4e9a03319>:13: RuntimeWarning: divide by zero encountered in log10\n",
      "  plt.contourf(xx, yy, np.log10(100*leak_day1), levels=np.arange(-3, 0.01, 0.2), vmin=-3, vmax=0, cmap='Spectral_r', extend='max')\n"
     ]
    },
    {
     "data": {
      "text/plain": [
       "<matplotlib.contour.QuadContourSet at 0x7fca37959f10>"
      ]
     },
     "execution_count": 30,
     "metadata": {},
     "output_type": "execute_result"
    },
    {
     "data": {
      "image/png": "[encoded data removed]",
      "text/plain": [
       "<Figure size 792x720 with 2 Axes>"
      ]
     },
     "metadata": {
      "needs_background": "light"
     },
     "output_type": "display_data"
    }
   ],
   "source": [
    "xx, yy = np.mgrid[-5:5:0.2, -5:5:0.2]\n",
    "lev = np.arange(0, 0.01001, 0.001)\n",
    "\n",
    "fig = plt.figure(figsize=(11, 10))\n",
    "\n",
    "plt.subplot(221)\n",
    "\n",
    "plt.contourf(xx, yy, np.log10(100*leak_day0), levels=np.arange(-3, 0.01, 0.2), vmin=-3, vmax=0, cmap='Spectral_r', extend='max')\n",
    "#plt.colorbar()\n",
    "\n",
    "plt.subplot(222)\n",
    "\n",
    "plt.contourf(xx, yy, np.log10(100*leak_day1), levels=np.arange(-3, 0.01, 0.2), vmin=-3, vmax=0, cmap='Spectral_r', extend='max')\n",
    "#plt.colorbar()"
   ]
  },
  {
   "cell_type": "code",
   "execution_count": 26,
   "id": "finnish-satisfaction",
   "metadata": {
    "execution": {
     "iopub.execute_input": "2021-06-17T12:53:16.884519Z",
     "iopub.status.busy": "2021-06-17T12:53:16.884154Z",
     "iopub.status.idle": "2021-06-17T12:53:17.156479Z",
     "shell.execute_reply": "2021-06-17T12:53:17.155503Z",
     "shell.execute_reply.started": "2021-06-17T12:53:16.884481Z"
    }
   },
   "outputs": [
    {
     "name": "stderr",
     "output_type": "stream",
     "text": [
      "/srv/conda/envs/notebook/lib/python3.8/site-packages/matplotlib/contour.py:1494: UserWarning: Warning: converting a masked element to nan.\n",
      "  self.zmax = float(z.max())\n",
      "/srv/conda/envs/notebook/lib/python3.8/site-packages/matplotlib/contour.py:1495: UserWarning: Warning: converting a masked element to nan.\n",
      "  self.zmin = float(z.min())\n"
     ]
    },
    {
     "data": {
      "text/plain": [
       "<matplotlib.contour.QuadContourSet at 0x7fca371d2fa0>"
      ]
     },
     "execution_count": 26,
     "metadata": {},
     "output_type": "execute_result"
    },
    {
     "data": {
      "image/png": "[encoded data removed]",
      "text/plain": [
       "<Figure size 792x720 with 2 Axes>"
      ]
     },
     "metadata": {
      "needs_background": "light"
     },
     "output_type": "display_data"
    }
   ],
   "source": [
    "xx, yy = np.mgrid[-5:5:0.2, -5:5:0.2]\n",
    "lev = np.arange(0, 0.01001, 0.001)\n",
    "\n",
    "fig = plt.figure(figsize=(11, 10))\n",
    "\n",
    "plt.subplot(221)\n",
    "\n",
    "plt.contourf(xx, yy, np.log10(100*leak_day0), levels=np.arange(-3, 0.01, 0.2), vmin=-3, vmax=0, cmap='Spectral_r', extend='max')\n",
    "#plt.colorbar()\n",
    "\n",
    "plt.subplot(222)\n",
    "\n",
    "plt.contourf(xx, yy, np.log10(100*leak_day1), levels=np.arange(-3, 0.01, 0.2), vmin=-3, vmax=0, cmap='Spectral_r', extend='max')\n",
    "#plt.colorbar()"
   ]
  },
  {
   "cell_type": "code",
   "execution_count": null,
   "id": "sonic-partition",
   "metadata": {},
   "outputs": [],
   "source": []
  }
 ],
 "metadata": {
  "kernelspec": {
   "display_name": "Python 3",
   "language": "python",
   "name": "python3"
  },
  "language_info": {
   "codemirror_mode": {
    "name": "ipython",
    "version": 3
   },
   "file_extension": ".py",
   "mimetype": "text/x-python",
   "name": "python",
   "nbconvert_exporter": "python",
   "pygments_lexer": "ipython3",
   "version": "3.8.6"
  }
 },
 "nbformat": 4,
 "nbformat_minor": 5
}
